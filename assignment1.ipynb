{
 "cells": [
  {
   "cell_type": "markdown",
   "metadata": {},
   "source": [
    "# Classification with Kernel Fisher Discriminant"
   ]
  },
  {
   "cell_type": "markdown",
   "metadata": {},
   "source": [
    "###### COMP4670/8600 - Introduction to Statistical Machine Learning - Assignment 1 (due: Monday, 20 April, 23:59)"
   ]
  },
  {
   "cell_type": "markdown",
   "metadata": {},
   "source": [
    "Name: Zhuang Li\n",
    "\n",
    "Student ID: u5391572"
   ]
  },
  {
   "cell_type": "markdown",
   "metadata": {},
   "source": [
    "## Instructions\n",
    "\n",
    "|             |Notes|\n",
    "|:------------|:--|\n",
    "|Maximum marks| 20|\n",
    "|Weight|20% of final grade|\n",
    "|Format| Complete this ipython notebook. Do not forget to fill in your name and student ID above|\n",
    "|Submission mode| Use [wattle](https://wattle.anu.edu.au/)|\n",
    "|Formulas| All formulas which you derive need to be explained unless you use very common mathematical facts. Picture yourself as explaining your arguments to somebody who is just learning about your assignment. With other words, do not assume that the person marking your assignment knows all the background and therefore you can just write down the formulas without any explanation. It is your task to convince the reader that you know what you are doing when you derive an argument.|\n",
    "| Code quality | Python code should be well structured, use meaningful identifiers for variables and subroutines, and provide sufficient comments. Please refer to the examples given in the tutorials. |\n",
    "| Code efficiency | An efficient implementation of an algorithm uses fast subroutines provided by the language or additional libraries. For the purpose of implementing Machine Learning algorithms in this course, that means using the appropriate data structures provided by Python and in numpy/scipy (e.g. Linear Algebra and random generators). |\n",
    "| Late penalty | For every day (starts at midnight) after the deadline of an assignment, the mark will be reduced by 5%. No assignments shall be accepted if it is later than 10 days. | \n",
    "| Coorperation | All assignments must be done individually. Cheating and plagiarism will be dealt with in accordance with University procedures (please see the ANU policies on [Academic Honesty and Plagiarism](http://academichonesty.anu.edu.au)). Hence, for example, code for programming assignments must not be developed in groups, nor should code be shared. You are encouraged to broadly discuss ideas, approaches and techniques with a few other students, but not at a level of detail where specific solutions or implementation issues are described by anyone. If you choose to consult with other students, you will include the names of your discussion partners for each solution. If you have any questions on this, please ask the lecturer before you act. |\n",
    "| Solution | To be presented in the tutorials. |"
   ]
  },
  {
   "cell_type": "markdown",
   "metadata": {},
   "source": [
    "$\\newcommand{\\dotprod}[2]{\\left\\langle #1, #2 \\right\\rangle}$\n",
    "$\\newcommand{\\onevec}{\\mathbb{1}}$\n",
    "\n",
    "Setting up the environment"
   ]
  },
  {
   "cell_type": "code",
   "execution_count": 2,
   "metadata": {
    "collapsed": false
   },
   "outputs": [],
   "source": [
    "import matplotlib.pyplot as plt\n",
    "import numpy as np\n",
    "import pandas as pd\n",
    "from scipy.spatial.distance import pdist, squareform\n",
    "import scipy\n",
    "%matplotlib inline"
   ]
  },
  {
   "cell_type": "markdown",
   "metadata": {},
   "source": [
    "## The data set\n",
    "\n",
    "We will use census data from the [Australian Bureau of Statistics](http://www.abs.gov.au/). The table, which you can [download here](https://sml.forge.nicta.com.au/isml15/data/census_abs2011_summary.csv), contains a set of median and mean values for different regions of Australia.\n",
    "*(optional information, for interest only) The data consists of values from 2011 of Statistical Areas Level 3 (SA3s) which are often functional areas of regional citeis and large urban transport and service hubs. In general they have populations between 30,000 and 130,000 persons. For details, look at the [source at ABS](http://www.abs.gov.au/websitedbs/censushome.nsf/home/data?opendocument&navpos=200).*\n",
    "\n",
    "The following code reads in the data using pandas."
   ]
  },
  {
   "cell_type": "code",
   "execution_count": 3,
   "metadata": {
    "collapsed": false
   },
   "outputs": [
    {
     "name": "stdout",
     "output_type": "stream",
     "text": [
      "(342, 8)\n"
     ]
    },
    {
     "data": {
      "text/html": [
       "<div style=\"max-height:1000px;max-width:1500px;overflow:auto;\">\n",
       "<table border=\"1\" class=\"dataframe\">\n",
       "  <thead>\n",
       "    <tr style=\"text-align: right;\">\n",
       "      <th></th>\n",
       "      <th>Median_age_of_persons_Census_year_2011</th>\n",
       "      <th>Median_mortgage_repayment_monthly_Census_year_2011</th>\n",
       "      <th>Median_rent_weekly_Census_year_2011</th>\n",
       "      <th>Median_total_family_income_weekly_Census_year_2011</th>\n",
       "      <th>Median_total_household_income_weekly_Census_year_2011</th>\n",
       "      <th>Median_total_personal_income_weekly_Census_year_2011</th>\n",
       "      <th>Average_household_size_Census_year_2011</th>\n",
       "      <th>Average_number_of_persons_per_bedroom_Census_year_2011</th>\n",
       "    </tr>\n",
       "  </thead>\n",
       "  <tbody>\n",
       "    <tr>\n",
       "      <th>0</th>\n",
       "      <td>41</td>\n",
       "      <td>1517</td>\n",
       "      <td>180</td>\n",
       "      <td>1307</td>\n",
       "      <td>1015</td>\n",
       "      <td>533</td>\n",
       "      <td>2.5</td>\n",
       "      <td>1.1</td>\n",
       "    </tr>\n",
       "    <tr>\n",
       "      <th>1</th>\n",
       "      <td>37</td>\n",
       "      <td>2045</td>\n",
       "      <td>280</td>\n",
       "      <td>2069</td>\n",
       "      <td>1679</td>\n",
       "      <td>830</td>\n",
       "      <td>2.6</td>\n",
       "      <td>1.1</td>\n",
       "    </tr>\n",
       "    <tr>\n",
       "      <th>2</th>\n",
       "      <td>38</td>\n",
       "      <td>1300</td>\n",
       "      <td>200</td>\n",
       "      <td>1256</td>\n",
       "      <td>1033</td>\n",
       "      <td>642</td>\n",
       "      <td>2.3</td>\n",
       "      <td>1.1</td>\n",
       "    </tr>\n",
       "    <tr>\n",
       "      <th>3</th>\n",
       "      <td>49</td>\n",
       "      <td>1304</td>\n",
       "      <td>209</td>\n",
       "      <td>972</td>\n",
       "      <td>815</td>\n",
       "      <td>438</td>\n",
       "      <td>2.3</td>\n",
       "      <td>1.1</td>\n",
       "    </tr>\n",
       "    <tr>\n",
       "      <th>4</th>\n",
       "      <td>41</td>\n",
       "      <td>1950</td>\n",
       "      <td>280</td>\n",
       "      <td>1395</td>\n",
       "      <td>1087</td>\n",
       "      <td>529</td>\n",
       "      <td>2.5</td>\n",
       "      <td>1.1</td>\n",
       "    </tr>\n",
       "  </tbody>\n",
       "</table>\n",
       "</div>"
      ],
      "text/plain": [
       "   Median_age_of_persons_Census_year_2011  \\\n",
       "0                                      41   \n",
       "1                                      37   \n",
       "2                                      38   \n",
       "3                                      49   \n",
       "4                                      41   \n",
       "\n",
       "   Median_mortgage_repayment_monthly_Census_year_2011  \\\n",
       "0                                               1517    \n",
       "1                                               2045    \n",
       "2                                               1300    \n",
       "3                                               1304    \n",
       "4                                               1950    \n",
       "\n",
       "   Median_rent_weekly_Census_year_2011  \\\n",
       "0                                  180   \n",
       "1                                  280   \n",
       "2                                  200   \n",
       "3                                  209   \n",
       "4                                  280   \n",
       "\n",
       "   Median_total_family_income_weekly_Census_year_2011  \\\n",
       "0                                               1307    \n",
       "1                                               2069    \n",
       "2                                               1256    \n",
       "3                                                972    \n",
       "4                                               1395    \n",
       "\n",
       "   Median_total_household_income_weekly_Census_year_2011  \\\n",
       "0                                               1015       \n",
       "1                                               1679       \n",
       "2                                               1033       \n",
       "3                                                815       \n",
       "4                                               1087       \n",
       "\n",
       "   Median_total_personal_income_weekly_Census_year_2011  \\\n",
       "0                                                533      \n",
       "1                                                830      \n",
       "2                                                642      \n",
       "3                                                438      \n",
       "4                                                529      \n",
       "\n",
       "   Average_household_size_Census_year_2011  \\\n",
       "0                                      2.5   \n",
       "1                                      2.6   \n",
       "2                                      2.3   \n",
       "3                                      2.3   \n",
       "4                                      2.5   \n",
       "\n",
       "   Average_number_of_persons_per_bedroom_Census_year_2011  \n",
       "0                                                1.1       \n",
       "1                                                1.1       \n",
       "2                                                1.1       \n",
       "3                                                1.1       \n",
       "4                                                1.1       "
      ]
     },
     "execution_count": 3,
     "metadata": {},
     "output_type": "execute_result"
    }
   ],
   "source": [
    "raw_data = pd.read_csv('census_abs2011_summary.csv')\n",
    "print(raw_data.shape)\n",
    "raw_data.head()"
   ]
  },
  {
   "cell_type": "markdown",
   "metadata": {},
   "source": [
    "## (2 points) Plot some characteristics of the data\n",
    "\n",
    "Display the following two summaries of the data. Please label all the axes, and title the plots appropriately.\n",
    "* Plot the median monthly mortgage repayment (horizontal axis) to the median weekly rent (vertical axis)\n",
    "* Plot the histogram of the median age. Use bin boundaries [0,20,30,35,40,45,50,60,80]"
   ]
  },
  {
   "cell_type": "code",
   "execution_count": 4,
   "metadata": {
    "collapsed": false
   },
   "outputs": [
    {
     "data": {
      "text/plain": [
       "<matplotlib.text.Text at 0x114d20400>"
      ]
     },
     "execution_count": 4,
     "metadata": {},
     "output_type": "execute_result"
    },
    {
     "data": {
      "image/png": "[encoded data removed]",
      "text/plain": [
       "<matplotlib.figure.Figure at 0x114c89ac8>"
      ]
     },
     "metadata": {},
     "output_type": "display_data"
    }
   ],
   "source": [
    "fig = plt.figure(figsize=(11,5))\n",
    "ax = fig.add_subplot(121)\n",
    "ax.plot(raw_data['Median_mortgage_repayment_monthly_Census_year_2011'],raw_data['Median_rent_weekly_Census_year_2011'],'g*')\n",
    "ax.set_xlim(-500,3500)\n",
    "ax.set_ylim(-200,1200)\n",
    "ax.set_xlabel('Median_mortgage_repayment_monthly_Census_year_2011')\n",
    "ax.set_ylabel('Median_rent_weekly_Census_year_2011')\n",
    "ax = fig.add_subplot(122)\n",
    "bin_bon=[0,20,30,35,40,45,50,60,80]\n",
    "ax.hist(raw_data['Median_age_of_persons_Census_year_2011'], bin_bon, facecolor='g', alpha=0.75)\n",
    "ax.set_xlabel('Median_age_of_persons_Census_year_2011')\n",
    "ax.set_ylabel('Number')\n",
    "ax.set_title('Histogram of Median_age_of_persons_Census_year_2011')"
   ]
  },
  {
   "cell_type": "markdown",
   "metadata": {},
   "source": [
    "The binary classification task under consideration is to predict from the other features, whether the median age in a region is 38 or older."
   ]
  },
  {
   "cell_type": "code",
   "execution_count": 231,
   "metadata": {
    "collapsed": false,
    "scrolled": true
   },
   "outputs": [
    {
     "name": "stdout",
     "output_type": "stream",
     "text": [
      "Number of positive/negative examples = 187/155\n"
     ]
    },
    {
     "data": {
      "text/plain": [
       "(342, 7)"
      ]
     },
     "execution_count": 231,
     "metadata": {},
     "output_type": "execute_result"
    }
   ],
   "source": [
    "labelvec = np.array(raw_data['Median_age_of_persons_Census_year_2011'])\n",
    "y = np.ones(len(labelvec))\n",
    "neg = labelvec < 38\n",
    "\n",
    "y[neg] = -1\n",
    "num_pos = len(np.flatnonzero(y > 0))\n",
    "num_neg = len(np.flatnonzero(y < 0))\n",
    "print('Number of positive/negative examples = %d/%d' % (num_pos, num_neg))\n",
    "headers = list(raw_data.columns.values)\n",
    "headers.remove('Median_age_of_persons_Census_year_2011')\n",
    "raw_feat = np.array(raw_data[headers])\n",
    "\n",
    "avg = np.mean(raw_feat,axis=0)\n",
    "std_dev = np.std(raw_feat,axis=0)\n",
    "X = (raw_feat-avg)/std_dev\n",
    "X.shape"
   ]
  },
  {
   "cell_type": "markdown",
   "metadata": {},
   "source": [
    "## (3 points) Classification via Fisher's Linear Discriminant\n",
    "\n",
    "Consider the problem of binary classification. Fisher's criterion is given by:\n",
    "$$\n",
    "J(w) = \\frac{w^T S_B w}{w^T S_W w}\n",
    "$$\n",
    "where $S_B$ is the between class covariance and $S_W$ is the within class covariance.\n",
    "\n",
    "When implementing this as a linear classifier, you need to choose a threshold in projection space. Describe your criteria for choosing a threshold, and justify why it is a good one."
   ]
  },
  {
   "cell_type": "markdown",
   "metadata": {},
   "source": [
    "### Solution description\n",
    "I chose the threshold as: \n",
    "$$\n",
    "c=(P(C_1)\\cdot{\\mathbf{w}^T\\mathbf{m}_1}+P(C_2)\\cdot{\\mathbf{w}^T\\mathbf{m}_2})\n",
    "$$\n",
    "Assuming the projected data points in two classes are normally distributed with mean $u_1$ and $u_2$ ($\\mathbf{w}^T\\mathbf{m}_1$ and $\\mathbf{w}^T\\mathbf{m}_2$) and covariance $\\sigma_1^2$ and $\\sigma_2^2$. And we assume the prior distributions for two classes are $P(C_1)$ and $P(C_2)$. So the posterior probabilities are $P(C_1)\\cdot{N(u_1,\\sigma_1)}$ and $P(C_2)\\cdot{N(u_2,\\sigma_2)}$. When the projected data points lie on the threshold, the two posterior probabilities should be equal. \n",
    "$$\n",
    "P(C_1)\\cdot{N(\\frac{c-u_1}{\\sigma_1})}=P(C_2)\\cdot{N(\\frac{c-u_2}{\\sigma_2})}\n",
    "$$\n",
    "Then if we can assume the covariance of data points in two classes are equal. So we can get a good heuristic solution. \n",
    "$$\n",
    "c=(P(C_1)\\cdot{\\mathbf{w}^T\\mathbf{m}_1}+P(C_2)\\cdot{\\mathbf{w}^T\\mathbf{m}_2})\n",
    "$$\n",
    "Reference:\n",
    "http://stats.stackexchange.com/questions/4942/threshold-for-fisher-linear-classifier"
   ]
  },
  {
   "cell_type": "markdown",
   "metadata": {},
   "source": [
    "Implement two functions ```train_fld``` and ```predict_fld``` that corresponds to training and prediction. The functions should be used as in the following cell."
   ]
  },
  {
   "cell_type": "code",
   "execution_count": 237,
   "metadata": {
    "collapsed": false
   },
   "outputs": [],
   "source": [
    "\"\"\"\n",
    "calculate m1,m2\n",
    "M1_Matrix -- data points with positive labels\n",
    "M2_Matrix -- data points with negative labels\n",
    "\"\"\"\n",
    "def M1M2(M1_Matrix,M2_Matrix):\n",
    "    n_m1=M1_Matrix.shape[0]\n",
    "    n_m2=M2_Matrix.shape[0]\n",
    "    m1=np.mean(M1_Matrix,axis=0)\n",
    "    m2=np.mean(M2_Matrix,axis=0)\n",
    "    return m1,m2,n_m1,n_m2\n",
    "\"\"\"\n",
    "seperate data with positive and negative labels\n",
    "Matrix -- data points here (can also be the feature vectors)\n",
    "y -- labels\n",
    "\"\"\"\n",
    "def SeparatePosAndNeg(Matrix,y):\n",
    "    pos_idx=np.where(y==1)\n",
    "    neg_idx=np.where(y==-1)\n",
    "    M1_Matrix=Matrix[pos_idx]\n",
    "    M2_Matrix=Matrix[neg_idx]\n",
    "    return M1_Matrix,M2_Matrix     \n",
    "\"\"\"\n",
    "calculate Sw\n",
    "m1 -- the projected mean of class one\n",
    "m2 -- the projected mean of class two\n",
    "M1_Matrix -- data points with positive labels\n",
    "M2_Matrix -- data points with negative labels\n",
    "\"\"\"\n",
    "def sW(m1,m2,X,M1_Matrix,M2_Matrix):\n",
    "    s1_cov=np.cov(M1_Matrix.T)\n",
    "    s2_cov=np.cov(M2_Matrix.T)\n",
    "    s1=s1_cov*(M1_Matrix.shape[0]-1)\n",
    "    s2=s2_cov*(M2_Matrix.shape[0]-1)\n",
    "    sw=s1+s2\n",
    "    return sw\n",
    "\"\"\"\n",
    "training model\n",
    "X -- training data\n",
    "y -- training labels\n",
    "\"\"\"\n",
    "def train_fld(X,y):\n",
    "    X=np.matrix(X)\n",
    "    M1_Matrix,M2_Matrix=SeparatePosAndNeg(X,y)\n",
    "    m1,m2,n_m1,n_m2=M1M2(M1_Matrix,M2_Matrix)\n",
    "    sw=sW(m1,m2,X,M1_Matrix,M2_Matrix)\n",
    "    w=np.dot(np.linalg.inv(sw),(m2.T-m1.T))\n",
    "    c=(np.dot(m1,w)*n_m1/len(X)+np.dot(m2,w)*n_m2/len(X))\n",
    "    return (w,c)\n",
    "\"\"\"\n",
    "predict the result\n",
    "w -- the parameter vector\n",
    "c -- the threshold\n",
    "X -- testing data \n",
    "y -- test labels\n",
    "\"\"\"\n",
    "def predict_fld(w,c,X,y):\n",
    "    pred=np.dot(X,w)\n",
    "    neg_num=np.where(pred>c)\n",
    "    pos_num=np.where(pred<=c)\n",
    "    pred[neg_num]=-1\n",
    "    pred[pos_num]=1\n",
    "    # since there is no asking about the error analysis in this part so I commented out the accuracy calculation\n",
    "    # around accuracy is 0.73\n",
    "    \"\"\"\n",
    "    i=0\n",
    "    tp=0\n",
    "    fp=0\n",
    "    tn=0;\n",
    "    fn=0;\n",
    "    assert len(pred) == len(y)\n",
    "    for num in y:\n",
    "        if pred[i]==1:\n",
    "            if pred[i]==int(num):\n",
    "                tp+=1\n",
    "            else:\n",
    "                fp+=1\n",
    "        if pred[i]==-1:\n",
    "            if pred[i]==int(num):\n",
    "                tn+=1\n",
    "            else:\n",
    "                fn+=1\n",
    "        i+=1\n",
    "    print float(tp+tn)/float(tp+fp+tn+fn)\n",
    "    \"\"\"\n",
    "    return pred\n",
    "\"\"\"\n",
    "plot the result\n",
    "\"\"\"\n",
    "def plotResult(w,pred,y):\n",
    "    max_feature=np.argmax(np.abs(w))\n",
    "    plt.plot(X[:,max_feature],pred,'b*',label='predicted')\n",
    "    plt.plot(X[:,max_feature],y,'r*',label='true')\n",
    "    plt.xlabel('max_feature in data')\n",
    "    plt.ylabel('predicted_value')\n",
    "    plt.ylim((-1.1,1.1))"
   ]
  },
  {
   "cell_type": "code",
   "execution_count": 238,
   "metadata": {
    "collapsed": false
   },
   "outputs": [
    {
     "name": "stdout",
     "output_type": "stream",
     "text": [
      "0.74269005848\n"
     ]
    },
    {
     "data": {
      "image/png": "[encoded data removed]",
      "text/plain": [
       "<matplotlib.figure.Figure at 0x10f891290>"
      ]
     },
     "metadata": {},
     "output_type": "display_data"
    }
   ],
   "source": [
    "\"\"\"\n",
    "here we just use the whole data points as the training data meanwhile the testing data\n",
    "\"\"\"\n",
    "w,c = train_fld(X,y)\n",
    "pred = predict_fld(w,c,X,y)\n",
    "plotResult(w,pred,y)"
   ]
  },
  {
   "cell_type": "markdown",
   "metadata": {},
   "source": [
    "## (4 points) Kernels\n",
    "\n",
    "Recall and write down the definitions corresponding to the Gaussian kernel and the inhomogenous polynomial kernel. Please be precise about the meaning of each symbol *(1 point)*."
   ]
  },
  {
   "cell_type": "markdown",
   "metadata": {},
   "source": [
    "### Solution description\n",
    "GaussianKernel:\n",
    "\\begin{align*}\n",
    "K(x,x')&=exp(-\\frac{||x-x'||^2}{2\\sigma^2})\\\\\n",
    "(\\sigma &>0)\n",
    "\\end{align*}\n",
    "$x$ and $x'$ ($x'$ doesn't mean the transpose of x) are the vectors in the input space. $\\sigma$ is the standard deviation. It determines the width of this kernel. And its square is called the variance.\n",
    "\n",
    "PolynomialKernel:\n",
    "$$\n",
    "K(x,x')=(x^Tx'+c)^d\n",
    "$$\n",
    "$x$ and $x'$ are the vectors in the input space. c is \"a constant trading off the influence of higher-order versus lower-order terms in the polynomial\"(wikipedia). d is the order(degree)."
   ]
  },
  {
   "cell_type": "markdown",
   "metadata": {},
   "source": [
    "Implement two functions corresponding to the kernels above *(2 points)*."
   ]
  },
  {
   "cell_type": "code",
   "execution_count": 285,
   "metadata": {
    "collapsed": false
   },
   "outputs": [
    {
     "name": "stdout",
     "output_type": "stream",
     "text": [
      "Gaussian Kernel Matrix:\n",
      "[[  1.00000000e+00   2.66892123e-02   7.72404607e-01 ...,   1.46643637e-02\n",
      "    7.75070645e-03   2.06825483e-24]\n",
      " [  2.66892123e-02   1.00000000e+00   2.93306194e-02 ...,   2.30354982e-04\n",
      "    2.40291875e-05   5.51708447e-29]\n",
      " [  7.72404607e-01   2.93306194e-02   1.00000000e+00 ...,   1.07355958e-02\n",
      "    1.47418440e-02   1.60155518e-23]\n",
      " ..., \n",
      " [  1.46643637e-02   2.30354982e-04   1.07355958e-02 ...,   1.00000000e+00\n",
      "    1.88653751e-01   1.02673137e-30]\n",
      " [  7.75070645e-03   2.40291875e-05   1.47418440e-02 ...,   1.88653751e-01\n",
      "    1.00000000e+00   7.55227473e-30]\n",
      " [  2.06825483e-24   5.51708447e-29   1.60155518e-23 ...,   1.02673137e-30\n",
      "    7.55227473e-30   1.00000000e+00]]\n",
      "Polynomial Kernel Matrix with c=1 of order 2:\n",
      "[[  5.26361737e+00   4.65239827e-01   4.50313445e+00 ...,   8.23384929e+00\n",
      "    1.52514111e+01   9.28571009e-02]\n",
      " [  4.65239827e-01   2.61165214e+01   1.82853737e-01 ...,   5.59869668e-01\n",
      "    2.80861962e+00   1.21675083e+02]\n",
      " [  4.50313445e+00   1.82853737e-01   6.62968627e+00 ...,   6.92954860e+00\n",
      "    2.32661702e+01   8.53632723e+00]\n",
      " ..., \n",
      " [  8.23384929e+00   5.59869668e-01   6.92954860e+00 ...,   1.86670193e+02\n",
      "    1.80956796e+02   1.33985253e+02]\n",
      " [  1.52514111e+01   2.80861962e+00   2.32661702e+01 ...,   1.80956796e+02\n",
      "    2.98511455e+02   5.40711102e+01]\n",
      " [  9.28571009e-02   1.21675083e+02   8.53632723e+00 ...,   1.33985253e+02\n",
      "    5.40711102e+01   1.69756685e+04]]\n",
      "Polynomial Kernel Matrix with c=1 of order 3:\n",
      "[[  1.20760935e+01  -3.17333067e-01   9.55591703e+00 ...,   2.36267709e+01\n",
      "    5.95614195e+01   2.82958458e-02]\n",
      " [ -3.17333067e-01   1.33466723e+02  -7.81908188e-02 ...,  -4.18919339e-01\n",
      "   -4.70694787e+00  -1.34215440e+03]\n",
      " [  9.55591703e+00  -7.81908188e-02   1.70702337e+01 ...,   1.82413685e+01\n",
      "    1.12224416e+02   2.49405819e+01]\n",
      " ..., \n",
      " [  2.36267709e+01  -4.18919339e-01   1.82413685e+01 ...,   2.55042447e+03\n",
      "    2.43423414e+03  -1.55090609e+03]\n",
      " [  5.95614195e+01  -4.70694787e+00   1.12224416e+02 ...,   2.43423414e+03\n",
      "    5.15752689e+03  -3.97601423e+02]\n",
      " [  2.82958458e-02  -1.34215440e+03   2.49405819e+01 ...,  -1.55090609e+03\n",
      "   -3.97601423e+02   2.21177185e+06]]\n"
     ]
    },
    {
     "data": {
      "image/png": "[encoded data removed]",
      "text/plain": [
       "<matplotlib.figure.Figure at 0x10e3d7e50>"
      ]
     },
     "metadata": {},
     "output_type": "display_data"
    }
   ],
   "source": [
    "\"\"\"\n",
    "implement Gaussian kernel function\n",
    "x,z -- data points from input space\n",
    "sigma -- standard deviation\n",
    "\"\"\"\n",
    "def Gaussian(x,z,sigma):\n",
    "    return np.exp((-(np.linalg.norm(x-z)**2))/(2*sigma**2))\n",
    "\"\"\"\n",
    "implement Polynomial kernel function\n",
    "x,z -- data points from input space\n",
    "c -- constant\n",
    "d -- degree\n",
    "\"\"\"\n",
    "def Polynomial(x,z,c,d):\n",
    "    return (np.dot(x.T,z)+c)**d\n",
    "\"\"\"\n",
    "get Gaussian kernel\n",
    "X -- data matrix \n",
    "sigma -- standard deviation\n",
    "\"\"\"\n",
    "def GaussianMatrix(X,sigma):\n",
    "    # to improve the calculation efficiency we use scipy lib but not calculate manually\n",
    "    dists = squareform(pdist(X, 'euclidean'))\n",
    "    GassMatrix = scipy.exp(-dists ** 2 / (2*(sigma ** 2)))\n",
    "    return GassMatrix\n",
    "\"\"\"\n",
    "get Polynomial kernel\n",
    "X -- data matrix \n",
    "c -- constant\n",
    "d -- degree\n",
    "\"\"\"\n",
    "def PolynomialKernel(X,c,d):\n",
    "    inerpro=np.dot(X,X.T)\n",
    "    return (inerpro+c)**d\n",
    "\"\"\"\n",
    "plot Eigen values of three kernel matrix\n",
    "\"\"\"\n",
    "def plotEigen(GassMatrix,PolyMatrixTwo,PolyMatrixThree):\n",
    "    # I use 'eigh' because it seems using 'eig' will cause some round problems\n",
    "    GassEngv,v_GassEngv=np.linalg.eigh(GassMatrix)\n",
    "    PolyMatrixTwoEngv,v_PolyMatrixTwoEngv=np.linalg.eigh(PolyMatrixTwo)\n",
    "    PolyMatrixThreeEngv,v_PolyMatrixThreeEngv=np.linalg.eigh(PolyMatrixThree)\n",
    "    fig = plt.figure(figsize=(11,5))\n",
    "    ax = fig.add_subplot(221)\n",
    "    ax.plot(GassEngv,'g*')\n",
    "    ax.set_title('Gaussian_Kernel with sigma=1.1')\n",
    "    ax.set_xlabel('EigenVectors')\n",
    "    ax.set_ylabel('EigenValues')\n",
    "    ax = fig.add_subplot(222)\n",
    "    ax.plot(PolyMatrixTwoEngv,'g*')\n",
    "    ax.set_title('Polynomial_Kernel with c=1 of order 2:')\n",
    "    ax.set_xlabel('EigenVectors')\n",
    "    ax.set_ylabel('EigenValues')\n",
    "    ax = fig.add_subplot(223)\n",
    "    ax.plot(PolyMatrixThreeEngv,'g*')\n",
    "    ax.set_title('Polynomial_Kernel with c=1 of order 3:')\n",
    "    ax.set_xlabel('EigenVectors')\n",
    "    ax.set_ylabel('EigenValues')\n",
    "    fig.tight_layout()\n",
    "GassMatrix=GaussianMatrix(X,1.1)\n",
    "PolyMatrixTwo=PolynomialKernel(X,1,2)\n",
    "PolyMatrixThree=PolynomialKernel(X,1,3)\n",
    "plotEigen(GassMatrix,PolyMatrixTwo,PolyMatrixThree)\n",
    "print (\"Gaussian Kernel Matrix:\")\n",
    "print GassMatrix\n",
    "print (\"Polynomial Kernel Matrix with c=1 of order 2:\")\n",
    "print PolyMatrixTwo\n",
    "print (\"Polynomial Kernel Matrix with c=1 of order 3:\")\n",
    "print PolyMatrixThree"
   ]
  },
  {
   "cell_type": "markdown",
   "metadata": {},
   "source": [
    "Compute the kernel matrix on all the examples above, and plot the eigenvalues of the kernel matrix. Show results for the Gaussian kernel with width $\\sigma=1.1$ and the polynomial kernel with $c=1$ of order 2 and 3 *(1 point)*."
   ]
  },
  {
   "cell_type": "markdown",
   "metadata": {},
   "source": [
    "## (4 points) Normalisation in using kernels\n",
    "\n",
    "You have seen the importance of normalisation in the tutorials.\n",
    "\n",
    "In the following, we use the fact that kernels ($k(\\cdot, \\cdot)$) are inner products in a feature space with feature mapping $\\phi(\\cdot)$:\n",
    "$$k(x,y) = \\dotprod{\\phi(x)}{\\phi(y)}$$\n",
    "\n",
    "### Centering\n",
    "\n",
    "Centering causes the mean of the data set to be the zero vector in feature space. The following is a derivation for doing the centering directly using kernels.\n",
    "\n",
    "$$\n",
    "\\mu = \\frac{1}{n}\\sum_{i=1}^n \\phi(x_i)\n",
    "$$\n",
    "then\n",
    "$$\n",
    "\\hat{\\phi}(x) = \\phi(x) - \\mu.\n",
    "$$\n",
    "Hence\n",
    "\\begin{align*}\n",
    "\\hat{k}(x,y) &= \\dotprod{\\hat{\\phi}(x)}{\\hat{\\phi}(y)}\\\\\n",
    "    &= \\dotprod{\\phi(x) - \\mu}{\\phi(y) - \\mu}\n",
    "\\end{align*}\n",
    "\n",
    "Justify and explain the above steps."
   ]
  },
  {
   "cell_type": "markdown",
   "metadata": {},
   "source": [
    "### Solution description\n",
    "Explain each steps:\n",
    "\n",
    "$\\mu$ is the mean of the feature vectors in the feature space.\n",
    "\n",
    "$\\hat{\\phi}(x)$ is the new vector center point of which is the $\\mu$ instead of its original center. So the feature vectors would be symmetric to the original point.\n",
    "\n",
    "$\\hat{k}(x,y)$ is the inner product of the centered vectors.\n",
    "\n",
    "Then we can get the deviation:\n",
    "\n",
    "$$\n",
    "\\begin{align}\n",
    "<\\hat{\\phi}(x),\\hat{\\phi}(y)>\n",
    "&= <\\phi(x)-\\mu ,\\phi(y)-\\mu>\\\\\n",
    "&= (\\phi(x)-\\mu)^T(\\phi(y)-\\mu)\\\\\n",
    "&= \\phi(x)^T\\phi(y)-\\mu^T\\phi(y)-\\phi(x)^T\\mu+\\mu^T\\mu\\\\\n",
    "\\end{align}\n",
    "$$\n",
    "\n",
    "We can construct a kernel.\n",
    "\n",
    "$\\hat{\\mathbf{K}} = \\mathbf{K} - \\mathbf{J} - \\mathbf{J}^T + \\mathbf{E}$\n",
    "\n",
    "$\\mathbf{J} = \\frac{1}{n}\\onevec^T\\onevec\\mathbf{K}$\n",
    "\n",
    "$\\mathbf{E} = \\frac{1}{n^2}(\\onevec\\mathbf{K}\\onevec^T)\\onevec^T\\onevec$\n",
    "\n",
    "where:\n",
    "\n",
    "$\\onevec \\in 1 \\times N$\n",
    "\n",
    "$N$ is the dimension of the uncentered kernel $\\mathbf{K}$.\n",
    "\n",
    "Reference: \"Kernel Methods for Pattern Analysis\"(John Shawe-Taylor and Nello Cristianini) chapter 5"
   ]
  },
  {
   "cell_type": "markdown",
   "metadata": {},
   "source": [
    "### Unit diagonal\n",
    "\n",
    "It is often convenient to have all the examples to be represented by vectors of the same length. This implies that the diagonal of the kernel matrix (the squared length) is the same for all examples. We arbitrarily (without loss of generality) set this length to 1.\n",
    "\\begin{align*}\n",
    "\\hat{k}(x,y) &= \\dotprod{\\frac{\\phi(x)}{\\|\\phi(x)\\|}}{\\frac{\\phi(y)}{\\|\\phi(y)\\|}}\\\\\n",
    "    &= \\frac{1}{\\|\\phi(x)\\|\\|\\phi(y)\\|}\\dotprod{\\phi(x)}{\\phi(y)}\\\\\n",
    "    &= \\frac{1}{\\|\\phi(x)\\|\\|\\phi(y)\\|} k(x,y)\n",
    "\\end{align*}\n",
    "\n",
    "Normalizing the kernel matrix such that it has one along the diagonal is sometimes called trace normalisation or spherical normalisation.\n",
    "\n",
    "Justify and explain each step of the derivation above.\n"
   ]
  },
  {
   "cell_type": "markdown",
   "metadata": {
    "collapsed": true
   },
   "source": [
    "### Solution description\n",
    "Explain each step:\n",
    "\n",
    "$$\n",
    "\\begin{align*}\n",
    "\\|\\phi(x)\\|&= \\sqrt{\\left \\| \\phi(x) \\right \\|^2} \\\\\n",
    "&= \\sqrt{ \\left \\langle \\phi(x) ,\\phi(x)  \\right \\rangle} \\\\\n",
    "&= \\sqrt{k(x,x)}\n",
    "\\end{align*}\n",
    "$$\n",
    "\n",
    "So\n",
    "\n",
    "$$\n",
    "\\begin{align*}\n",
    "\\dotprod{\\frac{\\phi(x)}{\\|\\phi(x)\\|}}{\\frac{\\phi(y)}{\\|\\phi(y)\\|}}&= \\frac{1}{\\|\\phi(x)\\|\\|\\phi(y)\\|} k(x,y)\\\\\n",
    "&= \\frac{k(x,y)}{\\sqrt{k(x,x)}\\sqrt{k(y,y)}}\n",
    "\\end{align*}\n",
    "$$\n",
    "\n",
    "From the deviation, we can see the length of all the feature vectors would be one. So the diagonal of the unit kernel would be one.\n",
    "\n",
    "From the equation above we can construct a new kernel $\\hat{\\mathbf{K}}=\\mathbf{D}\\mathbf{K}\\mathbf{D}$\n",
    "\n",
    "where:\n",
    "\n",
    "$ \\hat{\\mathbf{K}}=\n",
    "\\begin{bmatrix}\n",
    "\\frac{k(x_1,x_1)}{\\sqrt{k(x_1,x_1)}\\sqrt{k(x_1,x_1)}}& ... & \\frac{k(x_1,x_n)}{\\sqrt{k(x_1,x_1)}\\sqrt{k(x_n,x_n)}}\\\\\n",
    ".\\\\.\\\\\n",
    "\\frac{k(x_n,x_1)}{\\sqrt{k(x_n,x_n)}\\sqrt{k(x_1,x_1)}}& ... & \\frac{k(x_n,x_n)}{\\sqrt{k(x_n,x_n)}\\sqrt{k(x_n,x_n)}}\\\\ \n",
    "\\end{bmatrix}\n",
    "$\n",
    "$ \\mathbf{D}=\n",
    "\\begin{bmatrix}\n",
    "\\frac{1}{\\sqrt{k(x_1,x_1)}}& 0 &0& ... & 0\\\\\n",
    "0& \\frac{1}{\\sqrt{k(x_2,x_2)}}&0& ... & 0\\\\\n",
    ".\\\\.\\\\\n",
    "0& 0&0& ... & \\frac{1}{\\sqrt{k(x_n,x_n)}}\\\\ \n",
    "\\end{bmatrix}\n",
    "$\n",
    "\n",
    "$\\mathbf{K}$ is the ununited kernel.\n",
    "\n",
    "Reference: \"Kernel Methods for Pattern Analysis\"(John Shawe-Taylor and Nello Cristianini) chapter 5"
   ]
  },
  {
   "cell_type": "code",
   "execution_count": 286,
   "metadata": {
    "collapsed": true
   },
   "outputs": [],
   "source": [
    "\"\"\"\n",
    "Centering\n",
    "\n",
    "kernelMatrix -- kernel matrix to be centered\n",
    "return the centered kernel\n",
    "\"\"\"\n",
    "def CenterKernelMatrix(kernelMatrix):\n",
    "    D=len(kernelMatrix)\n",
    "    rowmean=np.mean(kernelMatrix,axis=0)\n",
    "    rowmean=np.matrix(rowmean)\n",
    "    mean=np.mean(rowmean)\n",
    "    J=np.dot(np.ones((D,1)),rowmean)\n",
    "    centerKernelMatrix=kernelMatrix-J-J.T+mean*np.ones((D,D))\n",
    "    return centerKernelMatrix\n",
    "\"\"\"\n",
    "Unit diagonal\n",
    "\n",
    "kernelMatrix -- kernel matrix to be united\n",
    "return the united kernel\n",
    "\"\"\"\n",
    "def UnitKernelMatrix(kernelMatrix):\n",
    "    D = np.diag(1.0/np.sqrt(np.diag(kernelMatrix)),k=0)\n",
    "    return np.dot(D,np.dot(kernelMatrix,D))"
   ]
  },
  {
   "cell_type": "markdown",
   "metadata": {},
   "source": [
    "## (3 points) Kernelising Fisher's Discriminant\n",
    "\n",
    "### Definition\n",
    "Consider a binary classification task.\n",
    "Recall from the lecture that Fisher's criterion is given by:\n",
    "$$\n",
    "J(w) = \\frac{(m_2 - m_1)^2}{s_1^2 + s_2^2}\n",
    "$$\n",
    "where $m_1$ and $m_2$ are the means of class $\\mathcal{C}_1$ and $\\mathcal{C}_2$ respectively, and $s_1^2$ and $s_2^2$ are the corresponding within class variances.\n",
    "\n",
    "Write down the definition of $m_1, m_2, s_1, s_2$ in terms of the examples $\\mathbf{x}$ and the labels $y$. Please define all your symbols carefully, in particular $\\mathbf{w}$."
   ]
  },
  {
   "cell_type": "markdown",
   "metadata": {},
   "source": [
    "### Solution\n",
    "$$\n",
    "\\mathbf{m}_1=\\frac{1}{N_1}\\sum_{n\\in{C_1}}\\mathbf{x}_n\n",
    "$$\n",
    "$$\n",
    "\\mathbf{m}_2=\\frac{1}{N_2}\\sum_{n\\in{C_2}}\\mathbf{x}_n\n",
    "$$\n",
    "$\\mathbf{m}_k$ is the mean of the vectors in space of class k. $N_k$ is the number of the data points in class k.\n",
    "$C_k$ symbolize the set of class k.\n",
    "\n",
    "$$\n",
    "m_1=\\mathbf{w}^T\\mathbf{m}_1\n",
    "$$\n",
    "$$\n",
    "m_2=\\mathbf{w}^T\\mathbf{m}_2\n",
    "$$\n",
    "$m_k$ is the mean of the projected data from $C_k$\n",
    "$$\n",
    "s_1^2=\\sum_{n\\in{C_1}}(y_1-m_1)^2\n",
    "$$\n",
    "$$\n",
    "s_2^2=\\sum_{n\\in{C_2}}(y_2-m_2)^2\n",
    "$$\n",
    "$y_1$ is the labels which are class one and $y_2$ is the labels which are class two.\n",
    "$$\n",
    "\\mathbf{w} \\propto \\mathbf{S_W}^{-1} (m_2 - m_1)\n",
    "$$\n",
    "$\\mathbf{w}$ is a vector proportional to the difference of the class means and in the meantime it is perpendicular to the decision boundary. In fact it is projection vector used to project data from high dimension to one dimension. So we can classify data using the one dimension data."
   ]
  },
  {
   "cell_type": "markdown",
   "metadata": {},
   "source": [
    "### Matrix form\n",
    "\n",
    "Observe that you can express the sum of a set of vectors as a product of a vector of ones, $\\onevec$ and a matrix containing the vectors. Define matrices $\\mathbf{X}_1$ and $\\mathbf{X}_2$ as the data corresponding to class $\\mathcal{C}_1$ and $\\mathcal{C}_2$ respectively. Please specify the dimensions carefully. Using these definitions, derive the expression for the numerator of $J(w)$, i.e. $(m_2 - m_1)^2$ where the data only appears in terms of the matrices $\\mathbf{X}_1\\mathbf{X}_1^T$, $\\mathbf{X}_1\\mathbf{X}_2^T$, $\\mathbf{X}_2\\mathbf{X}_1^T$ and $\\mathbf{X}_2\\mathbf{X}_2^T$. There could be other vectors, for example $\\mathbf{w}$."
   ]
  },
  {
   "cell_type": "markdown",
   "metadata": {},
   "source": [
    "### Solution\n",
    "We define $\\mathbf{X}_k \\in R^{M \\times N_k}$ and $\\onevec_k \\in R^{N_k \\times 1}$.\n",
    "\n",
    "$M$ is the dimension of the data vectors. $N_k$ is the number of data points in class $C_k$. $k$ is the mark of class\n",
    "\n",
    "$\\onevec_k$ is a vector of ones.\n",
    "\n",
    "So we get the mean of the vectors in class space k:\n",
    "\n",
    "$\n",
    "\\mathbf{m}_1=\\frac{1}{N_1}\\mathbf{X}_1\\onevec_1\n",
    "$\n",
    "\n",
    "$\n",
    "\\mathbf{m}_2=\\frac{1}{N_2}\\mathbf{X}_2\\onevec_2\n",
    "$\n",
    "\n",
    "Then we can get the projection of mean vectors:\n",
    "\n",
    "$\n",
    "m_1=\\mathbf{w}^T\\mathbf{m}_1\n",
    "$\n",
    "\n",
    "$\n",
    "m_2=\\mathbf{w}^T\\mathbf{m}_2\n",
    "$\n",
    "\n",
    "So, we put all the equations back to the original equation and the last derivation is:\n",
    "$$\n",
    "\\begin{align}\n",
    "(m_2-m_1)^2 &= (\\frac{1}{N_2}\\mathbf{w}^T\\mathbf{X}_2\\onevec_2-\\frac{1}{N_1}\\mathbf{w}^T\\mathbf{X}_1\\onevec_1)^2\\\\\n",
    "&=\\frac{1}{N_2}\\mathbf{w}^T\\mathbf{X}_2\\onevec_2\\frac{1}{N_2}\\mathbf{w}^T\\mathbf{X}_2\\onevec_2+\\frac{1}{N_1}\\mathbf{w}^T\\mathbf{X}_1\\onevec_1\\frac{1}{N_1}\\mathbf{w}^T\\mathbf{X}_1\\onevec_1-2\\frac{1}{N_2}\\mathbf{w}^T\\mathbf{X}_2\\onevec_2\\frac{1}{N_1}\\mathbf{w}^T\\mathbf{X}_1\\onevec_1\\\\\n",
    "&=\\frac{1}{N_2}\\mathbf{w}^T\\mathbf{X}_2\\onevec_2\\frac{1}{N_2}((\\mathbf{X}_2\\onevec_2)^T\\mathbf{w})^T+\\frac{1}{N_1}\\mathbf{w}^T\\mathbf{X}_1\\onevec_1\\frac{1}{N_1}((\\mathbf{X}_1\\onevec_1)^T\\mathbf{w})^T-2\\frac{1}{N_2}\\mathbf{w}^T\\mathbf{X}_2\\onevec_2\\frac{1}{N_1}((\\mathbf{X}_1\\onevec_1)^T\\mathbf{w})^T\\\\\n",
    "&=\\frac{1}{N_2}\\mathbf{w}^T\\mathbf{X}_2\\onevec_2\\frac{1}{N_2}(\\mathbf{X}_2\\onevec_2)^T\\mathbf{w}+\\frac{1}{N_1}\\mathbf{w}^T\\mathbf{X}_1\\onevec_1\\frac{1}{N_1}(\\mathbf{X}_1\\onevec_1)^T\\mathbf{w}-2\\frac{1}{N_2}\\mathbf{w}^T\\mathbf{X}_2\\onevec_2\\frac{1}{N_1}(\\mathbf{X}_1\\onevec_1)^T\\mathbf{w}\\\\\n",
    "&=\\frac{1}{N_2}\\mathbf{w}^T\\mathbf{X}_2\\onevec_2\\frac{1}{N_2}\\onevec_2^T\\mathbf{X}_2^T\\mathbf{w}+\\frac{1}{N_1}\\mathbf{w}^T\\mathbf{X}_1\\onevec_1\\frac{1}{N_1}\\onevec_1^T\\mathbf{X}_1^T\\mathbf{w}-2\\frac{1}{N_2}\\mathbf{w}^T\\mathbf{X}_2\\onevec_2\\frac{1}{N_1}\\onevec_1^T\\mathbf{X}_1^T\\mathbf{w}\\\\\n",
    "&=\\mathbf{w}^T(\\frac{1}{N_1^2}\\mathbf{X}_1\\onevec_1\\onevec_1^T\\mathbf{X}_1^T+\\frac{1}{N_2^2}\\mathbf{X}_2\\onevec_2\\onevec_2^T\\mathbf{X}_2^T-\\frac{2}{N_1N_2}\\mathbf{X}_2\\onevec_2\\onevec_1^T\\mathbf{X}_1^T)\\mathbf{w}\n",
    "\\end{align}\n",
    "$$\n",
    "\n",
    "Here:\n",
    "\n",
    "$((\\mathbf{X}_2\\onevec_2)^T\\mathbf{w})^T=(\\mathbf{X}_2\\onevec_2)^T\\mathbf{w}$\n",
    "\n",
    "because:\n",
    "\n",
    "$(\\mathbf{X}_2\\onevec_2)^T\\mathbf{w}$ is symmetric."
   ]
  },
  {
   "cell_type": "markdown",
   "metadata": {},
   "source": [
    "### Kernel form\n",
    "\n",
    "The above matrix forms $\\mathbf{X}_1\\mathbf{X}_1^T$, $\\mathbf{X}_1\\mathbf{X}_2^T$, $\\mathbf{X}_2\\mathbf{X}_1^T$ and $\\mathbf{X}_2\\mathbf{X}_2^T$ can be considered to be the special case of the linear kernel, i.e. $\\phi(x) = x$. Observe that the numerator of Fisher's criterion can be expressed purely as inner products between examples. It turns out that the denominator can also be expressed purely as inner products.\n"
   ]
  },
  {
   "cell_type": "markdown",
   "metadata": {},
   "source": [
    "Implement Kernel Fisher's Discriminant such that it can take a general kernel function. This is the function of the form:\n",
    "$$\n",
    "J(\\alpha) = \\frac{\\alpha M \\alpha}{\\alpha N \\alpha}\n",
    "$$\n",
    "where $M$ and $N$ are defined on the following [Wikipedia entry](http://en.wikipedia.org/wiki/Kernel_Fisher_discriminant_analysis)."
   ]
  },
  {
   "cell_type": "code",
   "execution_count": 299,
   "metadata": {
    "collapsed": false
   },
   "outputs": [
    {
     "name": "stdout",
     "output_type": "stream",
     "text": [
      "[[ 0.01545094]]\n"
     ]
    }
   ],
   "source": [
    "def meanMatrix(kernelMatrix):\n",
    "    return np.mean(kernelMatrix,axis=0)\n",
    "\"\"\"\n",
    "calculate M1 and M2 and separate the kernels\n",
    "\n",
    "KernelMatrix -- the kernel vectors used to train\n",
    "y -- labels corresponding to each kernel vector\n",
    "SeparatePosAndNeg -- function to separate the positive and negative kernel vectors\n",
    "\"\"\"\n",
    "def M1AndM2(KernelMatrix,y,SeparatePosAndNeg):\n",
    "    #seperate the kernel matrix with positive labels and negative labels\n",
    "    M1_Matrix,M2_Matrix=SeparatePosAndNeg(KernelMatrix,y)\n",
    "    M1=meanMatrix(M1_Matrix)\n",
    "    M2=meanMatrix(M2_Matrix)\n",
    "    M1=np.matrix(M1)\n",
    "    M2=np.matrix(M2)\n",
    "    return M1,M2,M1_Matrix,M2_Matrix\n",
    "\"\"\"\n",
    "calculate the M\n",
    "M1 -- the mean of the positive kernel vectors\n",
    "M2 -- the mean of the negative kernel vectors\n",
    "\"\"\"\n",
    "def calM(M1,M2):\n",
    "    J=M2.T-M1.T\n",
    "    return np.dot(J,J.T)\n",
    "\"\"\"\n",
    "calculate N\n",
    "here to prevent the singular and so a multiple of the identity is added to it and the lamda is 0.1\n",
    "\"\"\"\n",
    "def calN(M1,M2,M1_Matrix,M2_Matrix):\n",
    "    D1=len(M1_Matrix)\n",
    "    D2=len(M2_Matrix)\n",
    "    N1=np.dot(np.dot(M1_Matrix.T,(np.eye(D1)-1/float(D1))),M1_Matrix)\n",
    "    N2=np.dot(np.dot(M2_Matrix.T,(np.eye(D2)-1/float(D2))),M2_Matrix)\n",
    "    D=len(N1)\n",
    "    return N1+N2+0.1*np.eye(D)\n",
    "\"\"\"\n",
    "calculate alph\n",
    "\"\"\"\n",
    "def calAlph(M1,M2,N):\n",
    "    return np.linalg.inv(N)*(M2.T-M1.T)\n",
    "\"\"\"\n",
    "Kernel Fisher's Discriminant J(alph)=(alph*M*alph)/(alph*N*alph)\n",
    "\"\"\"\n",
    "def KFD(alph,M,N):\n",
    "    return np.dot(np.dot(alph.T,M),alph)/np.dot(np.dot(alph.T,N),alph)\n",
    "M1,M2,M1_Matrix,M2_Matrix=M1AndM2(GassMatrix,y,SeparatePosAndNeg)\n",
    "M=calM(M1,M2)\n",
    "N=calN(M1,M2,M1_Matrix,M2_Matrix)\n",
    "alph=calAlph(M1,M2,N)\n",
    "print KFD(alph,M,N)"
   ]
  },
  {
   "cell_type": "markdown",
   "metadata": {},
   "source": [
    "## (4 points) Comparing performance for different kernels\n",
    "\n",
    "Use half of the available data for training the model. The rest of the data is allocated to the test set. Repeat the experiment 10 times for different random splits of the data. Report the balanced accuracy for the test sets and plot a boxplot comparing the performance of the five kernel functions: Gaussian kernel with width $\\sigma=\\{0.23, 1.1, 8.7\\}$ and the polynomial kernel with $c=1$ of order 2 and 3. Do not forget to label the graph appropriately.\n",
    "\n",
    "If you were unable to solve the previous questions on kernelising Fisher's Discriminant and normalisation, report results using Linear Fisher's Discriminant on the 8 features above, and also the polynomial basis of degree 2 from Tutorial 2."
   ]
  },
  {
   "cell_type": "code",
   "execution_count": 309,
   "metadata": {
    "collapsed": false
   },
   "outputs": [
    {
     "name": "stdout",
     "output_type": "stream",
     "text": [
      "Gaussian Kernel with sigma = 0.23:\n",
      "[ 0.76753521  0.76046798  0.71419753  0.70256889  0.69051268  0.70666667\n",
      "  0.71868885  0.70595533  0.75303951  0.69570323]\n",
      "Gaussian Kernel with sigma = 1.1:\n",
      "[ 0.77083333  0.78351573  0.75417579  0.75389984  0.76302817  0.75263158\n",
      "  0.79326513  0.75116951  0.74086538  0.73225108]\n",
      "Gaussian Kernel with sigma = 8.7:\n",
      "[ 0.79301075  0.79135802  0.76712798  0.76016484  0.69333333  0.73076923\n",
      "  0.7447716   0.78939808  0.71344702  0.78899836]\n",
      "Polynomial kernel with c=1 of order 2:\n",
      "[ 0.78331053  0.80131579  0.80042433  0.76139818  0.77345679  0.79520833\n",
      "  0.77105263  0.77088503  0.78398191  0.74052334]\n",
      "Polynomial kernel with c=1 of order 3:\n",
      "[ 0.79802817  0.79200334  0.82386364  0.76671733  0.76625     0.77242965\n",
      "  0.82892573  0.77549296  0.73424226  0.7732038 ]\n"
     ]
    },
    {
     "data": {
      "image/png": "[encoded data removed]",
      "text/plain": [
       "<matplotlib.figure.Figure at 0x10f7a4b50>"
      ]
     },
     "metadata": {},
     "output_type": "display_data"
    }
   ],
   "source": [
    "import random\n",
    "\"\"\"\n",
    "generate the training kernel matrix and the similarity matrix between testing feature vectors and the training vectors \n",
    "X -- kernel matrix generated by original data\n",
    "y -- labels\n",
    "\"\"\"\n",
    "def TrainAndTestDataGenerator(X,y):\n",
    "    N = len(X)\n",
    "    idx = np.arange(N)\n",
    "    #np.random.seed(1)\n",
    "    np.random.shuffle(idx)\n",
    "    train_idx = idx[:int(N/2)]\n",
    "    test_idx = idx[int(N/2):]\n",
    "    train_set = X.take(train_idx,axis=0).take(train_idx,axis=1)#generate the kernel used to training\n",
    "    t_train_set = y[train_idx]\n",
    "    test_set = X.take(test_idx,axis=0).take(train_idx,axis=1)#generate the kernel used to testing\n",
    "    t_test_set = y[test_idx]\n",
    "    return train_set,t_train_set,test_set,t_test_set\n",
    "\"\"\"\n",
    "get the prediction vectors\n",
    "alph -- the weight trained from the training data\n",
    "kernelMatrix -- the kernel vectors used to test\n",
    "\"\"\"\n",
    "def getPred(alph,kernelMatrix,M1,M2):\n",
    "    pred = np.ones(kernelMatrix.shape[0])\n",
    "    dist1 = np.fabs(np.dot(kernelMatrix, alph) - np.dot(M1,alph))#calculate the distance to projected mean of class one \n",
    "    dist2 = np.fabs(np.dot(kernelMatrix, alph) - np.dot(M2,alph))#calculate the distance to projected mean of class two \n",
    "    dist1=np.asarray(dist1)\n",
    "    dist2=np.asarray(dist2)\n",
    "    dist1=dist1.flatten()\n",
    "    dist2=dist2.flatten()\n",
    "    # if distance to class one is bigger than to class two then the point belongs to two label of which is -1\n",
    "    compare=np.asarray(dist1 > dist2) \n",
    "    pred[compare] = -1\n",
    "    return pred\n",
    "\"\"\"\n",
    "get the elements of the confusion matrix\n",
    "pred -- the result of prediction\n",
    "y -- labels \n",
    "return the value of true positive,false positive,true negative,false negative\n",
    "\"\"\"\n",
    "def performance(pred,y):\n",
    "    i=0\n",
    "    tp=0\n",
    "    fp=0\n",
    "    tn=0;\n",
    "    fn=0;\n",
    "    assert len(pred) == len(y)\n",
    "    for num in y:\n",
    "        if pred[i]==1:\n",
    "            if pred[i]==int(num):\n",
    "                tp+=1\n",
    "            else:\n",
    "                fp+=1\n",
    "        if pred[i]==-1:\n",
    "            if pred[i]==int(num):\n",
    "                tn+=1\n",
    "            else:\n",
    "                fn+=1\n",
    "        i+=1\n",
    "    return tp,fp,tn,fn\n",
    "\"\"\"\n",
    "get the precision\n",
    "\"\"\"\n",
    "def precision(tp,fp):\n",
    "    return tp/float(tp+fp)\n",
    "\"\"\"\n",
    "get the recall\n",
    "\"\"\"\n",
    "def recall(tp,fn):\n",
    "    return float(tp)/float(tp+fn)\n",
    "\"\"\"\n",
    "get the accuracy\n",
    "\"\"\"\n",
    "def accuracy(tp,fp,tn,fn):\n",
    "    return float(tp+tn)/float(tp+fp+tn+fn)\n",
    "\"\"\"\n",
    "get the banlanced accuracy\n",
    "\"\"\"\n",
    "def banlanced_accuracy(tp,fp,tn,fn):\n",
    "    return 0.5*(tp)/float(tp+fn)+0.5*(tn)/float(tn+fp)\n",
    "\"\"\"\n",
    "calcualte the banlanced accuracy of Gassuian kernel in different sigma\n",
    "\n",
    "train_set -- the kernel vectors randomly chose from the original kernel matrix used to train a model\n",
    "t_train_set -- the labels corresponding the train_set kernel vectors\n",
    "test_set -- the similarity between each test feature vectors and the training feature vectors(it may not be square)\n",
    "t_test_set -- the labels corresponding the test_set kernel vectors\n",
    "sigma -- standard deviation\n",
    "\"\"\"\n",
    "def getGassuianAccuracy(train_set,t_train_set,test_set,t_test_set,sigma):\n",
    "    M1,M2,M1_Matrix,M2_Matrix=M1AndM2(train_set,t_train_set,SeparatePosAndNeg)\n",
    "    N=calN(M1,M2,M1_Matrix,M2_Matrix)\n",
    "    alph=calAlph(M1,M2,N)\n",
    "    pred=getPred(alph,test_set,M1,M2)\n",
    "    tp,fp,tn,fn=performance(pred,t_test_set)\n",
    "    return banlanced_accuracy(tp,fp,tn,fn)\n",
    "\"\"\"\n",
    "calcualte the banlanced accuracy of Polynomial kernel in different bias and order(degree)\n",
    "\n",
    "train_set -- the kernel vectors randomly chose from the original kernel matrix used to train a model\n",
    "t_train_set -- the labels corresponding the train_set kernel vectors\n",
    "test_set -- the similarity matrix between each test feature vectors and the training feature vectors(it may not be square)\n",
    "t_test_set -- the labels corresponding the test_set kernel vectors\n",
    "c -- constant bias\n",
    "d -- order(degree)\n",
    "\"\"\"\n",
    "def getPolyAccuracy(train_set,t_train_set,test_set,t_test_set,c,d):\n",
    "    M1,M2,M1_Matrix,M2_Matrix=M1AndM2(train_set,t_train_set,SeparatePosAndNeg)\n",
    "    N=calN(M1,M2,M1_Matrix,M2_Matrix)\n",
    "    alph=calAlph(M1,M2,N)\n",
    "    pred=getPred(alph,test_set,M1,M2)\n",
    "    tp,fp,tn,fn=performance(pred,t_test_set)\n",
    "    return banlanced_accuracy(tp,fp,tn,fn)\n",
    "\"\"\"\n",
    "get the matrix storing the accuracy of every experiment with different kernels\n",
    "\"\"\"\n",
    "def getPlotMatrix():\n",
    "    accuracyMatrix = np.zeros((5,10))\n",
    "    sigmaVector = np.array([0.23,1.1,8.7])\n",
    "    c = 1\n",
    "    OrderVector = np.array([2,3])\n",
    "    for i in xrange(0,3):\n",
    "        sigma = sigmaVector[i]\n",
    "        Gass_raw=GaussianMatrix(X,sigma)# calculate a kernel matrix using all data points\n",
    "        Gass_unit=UnitKernelMatrix(Gass_raw)#unit diagonal\n",
    "        Gass=CenterKernelMatrix(Gass_unit)#centering\n",
    "        for j in xrange(0,10):\n",
    "            train_set,t_train_set,test_set,t_test_set=TrainAndTestDataGenerator(Gass,y)# get the index of training and test data\n",
    "            accuracyMatrix[i][j]+=getGassuianAccuracy(train_set,t_train_set,test_set,t_test_set,sigma)\n",
    "   \n",
    "    for i in xrange(0,2):\n",
    "        d = OrderVector[i]\n",
    "        Poly_raw=PolynomialKernel(X,c,d)# calculate a kernel matrix using all data points\n",
    "        Poly_unit=UnitKernelMatrix(Poly_raw)#unit diagonal\n",
    "        Poly=CenterKernelMatrix(Poly_unit)#centering\n",
    "        for j in xrange(0,10):\n",
    "            train_set,t_train_set,test_set,t_test_set=TrainAndTestDataGenerator(Poly,y)# get the index of training and test data\n",
    "            accuracyMatrix[i+3][j]+=getPolyAccuracy(train_set,t_train_set,test_set,t_test_set,c,d)\n",
    "    return accuracyMatrix\n",
    "\"\"\"\n",
    "do the box plot with the accuracy values stored in the accuracyMatrix\n",
    "\"\"\"\n",
    "def plotTenTimes(accuracyMatrix):\n",
    "    length = accuracyMatrix.shape[1]\n",
    "    Gass_1 = accuracyMatrix[0].reshape(length)\n",
    "    Gass_2 = accuracyMatrix[1].reshape(length)\n",
    "    Gass_3 = accuracyMatrix[2].reshape(length)\n",
    "    \n",
    "    Poly_1 = accuracyMatrix[3].reshape(length)\n",
    "    Poly_2= accuracyMatrix[4].reshape(length)\n",
    "    \n",
    "    plotmatrix=accuracyMatrix.T\n",
    "    label=['Gauss(0.23)','Gauss(1.1)','Gauss(8.7)','Poly(2)','Poly(3)']\n",
    "    plt.boxplot(plotmatrix,labels=label)\n",
    "    print ('Gaussian Kernel with sigma = 0.23:\\n'),Gass_1\n",
    "    print ('Gaussian Kernel with sigma = 1.1:\\n'),Gass_2\n",
    "    print ('Gaussian Kernel with sigma = 8.7:\\n'),Gass_3\n",
    "    print ('Polynomial kernel with c=1 of order 2:\\n'),Poly_1\n",
    "    print ('Polynomial kernel with c=1 of order 3:\\n'),Poly_2\n",
    "    plt.title('Balanced Accuracy of different kernel')\n",
    "    plt.xlabel('Each Kernel')\n",
    "    plt.ylabel('Balanced Accuracy')\n",
    "    plt.show()\n",
    "\"\"\"\n",
    "run the methods\n",
    "\"\"\"\n",
    "accuracyMatrix=getPlotMatrix()\n",
    "plotTenTimes(accuracyMatrix)\n",
    "\n",
    "        "
   ]
  },
  {
   "cell_type": "code",
   "execution_count": null,
   "metadata": {
    "collapsed": true
   },
   "outputs": [],
   "source": []
  },
  {
   "cell_type": "code",
   "execution_count": null,
   "metadata": {
    "collapsed": true
   },
   "outputs": [],
   "source": []
  },
  {
   "cell_type": "code",
   "execution_count": null,
   "metadata": {
    "collapsed": true
   },
   "outputs": [],
   "source": []
  },
  {
   "cell_type": "code",
   "execution_count": null,
   "metadata": {
    "collapsed": true
   },
   "outputs": [],
   "source": []
  }
 ],
 "metadata": {
  "kernelspec": {
   "display_name": "Python 3",
   "language": "python",
   "name": "python3"
  },
  "language_info": {
   "codemirror_mode": {
    "name": "ipython",
    "version": 3
   },
   "file_extension": ".py",
   "mimetype": "text/x-python",
   "name": "python",
   "nbconvert_exporter": "python",
   "pygments_lexer": "ipython3",
   "version": "3.4.2"
  }
 },
 "nbformat": 4,
 "nbformat_minor": 0
}
