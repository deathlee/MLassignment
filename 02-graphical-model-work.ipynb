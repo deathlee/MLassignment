{
 "cells": [
  {
   "cell_type": "markdown",
   "metadata": {},
   "source": [
    "# Inference with Probabilistic Graphical Models"
   ]
  },
  {
   "cell_type": "markdown",
   "metadata": {},
   "source": [
    "###### COMP4670/8600 - Introduction to Statistical Machine Learning - Assignment 2 (due: Monday, 18 May, 23:59)"
   ]
  },
  {
   "cell_type": "markdown",
   "metadata": {},
   "source": [
    "Name: Zhuang Li\n",
    "\n",
    "Student ID: u5391572"
   ]
  },
  {
   "cell_type": "markdown",
   "metadata": {},
   "source": [
    "## Instructions\n",
    "\n",
    "|             |Notes|\n",
    "|:------------|:--|\n",
    "|Maximum marks| 20|\n",
    "|Weight|20% of final grade|\n",
    "|Format| Complete this ipython notebook. Do not forget to fill in your name and student ID above|\n",
    "|Submission mode| Use [wattle](https://wattle.anu.edu.au/)|\n",
    "|Formulas| All formulas which you derive need to be explained unless you use very common mathematical facts. Picture yourself as explaining your arguments to somebody who is just learning about your assignment. With other words, do not assume that the person marking your assignment knows all the background and therefore you can just write down the formulas without any explanation. It is your task to convince the reader that you know what you are doing when you derive an argument.|\n",
    "| Code quality | Python code should be well structured, use meaningful identifiers for variables and subroutines, and provide sufficient comments. Please refer to the examples given in the tutorials. |\n",
    "| Code efficiency | An efficient implementation of an algorithm uses fast subroutines provided by the language or additional libraries. For the purpose of implementing Machine Learning algorithms in this course, that means using the appropriate data structures provided by Python and in numpy/scipy (e.g. Linear Algebra and random generators). |\n",
    "| Late penalty | For every day (starts at midnight) after the deadline of an assignment, the mark will be reduced by 5%. No assignments shall be accepted if it is later than 10 days. | \n",
    "| Coorperation | All assignments must be done individually. Cheating and plagiarism will be dealt with in accordance with University procedures (please see the ANU policies on [Academic Honesty and Plagiarism](http://academichonesty.anu.edu.au)). Hence, for example, code for programming assignments must not be developed in groups, nor should code be shared. You are encouraged to broadly discuss ideas, approaches and techniques with a few other students, but not at a level of detail where specific solutions or implementation issues are described by anyone. If you choose to consult with other students, you will include the names of your discussion partners for each solution. If you have any questions on this, please ask the lecturer before you act. |\n",
    "| Solution | To be presented in the tutorials. |"
   ]
  },
  {
   "cell_type": "markdown",
   "metadata": {},
   "source": [
    "$\\newcommand{\\dotprod}[2]{\\left\\langle #1, #2 \\right\\rangle}$\n",
    "$\\newcommand{\\onevec}{\\mathbb{1}}$\n",
    "\n",
    "Setting up the environment"
   ]
  },
  {
   "cell_type": "code",
   "execution_count": 2,
   "metadata": {
    "collapsed": false
   },
   "outputs": [
    {
     "name": "stdout",
     "output_type": "stream",
     "text": [
      "Installed tikzmagic.py. To use it, type:\n",
      "  %load_ext tikzmagic\n"
     ]
    }
   ],
   "source": [
    "import matplotlib.pyplot as plt\n",
    "import numpy as np\n",
    "import pandas as pd\n",
    "from scipy.stats import itemfreq\n",
    "import time\n",
    "from scipy import stats\n",
    "from collections import Counter\n",
    "%install_ext https://sml.forge.nicta.com.au/isml15/data/tikzmagic.py"
   ]
  },
  {
   "cell_type": "code",
   "execution_count": 3,
   "metadata": {
    "collapsed": false
   },
   "outputs": [],
   "source": [
    "%load_ext tikzmagic\n",
    "%matplotlib inline"
   ]
  },
  {
   "cell_type": "markdown",
   "metadata": {},
   "source": [
    "##Important!!!!\n",
    "##My python version is 3.4.2,pandas is 0.16.0,scipy is 0.15.1 and ipython notebook is version 4. Please use this version to run my program!!"
   ]
  },
  {
   "cell_type": "markdown",
   "metadata": {},
   "source": [
    "## Part 1: (4 points) Marginal and conditional probability\n",
    "\n",
    "At the end of Semester 1 of 2015, the results of a course at a university were released.\n",
    "The following table contains the numbers of students who passed and failed the course.\n",
    "\n",
    "|  | Passed | Failed |\n",
    "|--|:--:|:--:|\n",
    "| Women | 27 | 8 |\n",
    "| Men | 29 | 6 |\n",
    "\n",
    "### Part 1a: Men vs Women\n",
    "\n",
    "Compute the following probabilities (show details of your reasoning):\n",
    "* probability that a person passes the course\n",
    "* probability that a woman passes the course\n",
    "* probability that a man passes the course"
   ]
  },
  {
   "cell_type": "markdown",
   "metadata": {},
   "source": [
    "### Solution description\n",
    "probability that a person passes the course\n",
    "$$\n",
    "P(Passed)=\\sum_{Gender=Women,Men}P(Gender,Passed)=\\frac{27+29}{27+29+8+6}=0.8000\n",
    "$$\n",
    "\n",
    "probability that a woman passes the course\n",
    "\n",
    "$$\n",
    "P(Passed|Women)=\\frac{P(Passed,Women)}{P(Women)}=2\\cdot{\\frac{27}{70}}=0.7714\n",
    "$$\n",
    "\n",
    "probability that a man passes the course\n",
    "\n",
    "$$\n",
    "P(Passed|Men)=\\frac{P(Passed,Men)}{P(Men)}=2\\cdot{\\frac{29}{70}}=0.8286\n",
    "$$"
   ]
  },
  {
   "cell_type": "markdown",
   "metadata": {},
   "source": [
    "### Part 1b: Including Bachelor and Master's level\n",
    "\n",
    "The dean is concerned that the lecturer may be failing a higher proportion of women than men in the course, so she investigates further and demands the numbers of students at the Bachelor and Master's level.\n",
    "\n",
    "|  | Passed | Failed |\n",
    "|--|:--:|:--:|\n",
    "| B.Sc Women | 8 | 1 |\n",
    "| B.Sc Men | 23 | 3 |\n",
    "| M.Sc Women | 19 | 7 |\n",
    "| M.Sc Men | 6 | 3 |\n",
    "\n",
    "Compute the following probabilities (show details of your reasoning):\n",
    "* probability that a B.Sc student passes the course\n",
    "* probability that a B.Sc woman passes the course\n",
    "* probability that a B.Sc man passes the course\n",
    "* probability that a M.Sc student passes the course\n",
    "* probability that a M.Sc woman passes the course\n",
    "* probability that a M.Sc man passes the course"
   ]
  },
  {
   "cell_type": "markdown",
   "metadata": {},
   "source": [
    "### Solution description\n",
    "probability that a B.Sc student passes the course\n",
    "$$\n",
    "P(Passed|B.Sc)=\\frac{P(Passed,B.Sc)}{P(B.Sc)}\n",
    "=\\frac{31}{31+4}=0.8857\n",
    "$$\n",
    "probability that a B.Sc woman passes the course\n",
    "$$\n",
    "P(Passed|B.Sc,Gender=Women)=\\frac{P(Passed,B.Sc,Gender=Women)}{P(B.Sc,Gender=Women)}\n",
    "=\\frac{8}{8+1}=0.8889\n",
    "$$\n",
    "probability that a B.Sc man passes the course\n",
    "$$\n",
    "P(Passed|B.Sc,Gender=Men)=\\frac{P(Passed,B.Sc,Gender=Men)}{P(B.Sc,Gender=Men)}\n",
    "=\\frac{23}{23+3}=0.8846\n",
    "$$\n",
    "probability that a M.Sc student passes the course\n",
    "$$\n",
    "P(Passed|M.Sc)=\\frac{P(Passed,M.Sc)}{P(M.Sc)}\n",
    "=\\frac{25}{25+10}=0.7143\n",
    "$$\n",
    "probability that a M.Sc woman passes the course\n",
    "$$\n",
    "P(Passed|M.Sc,Gender=Women)=\\frac{P(Passed,M.Sc,Gender=Women)}{P(M.Sc,Gender=Women)}\n",
    "=\\frac{19}{19+7}=0.7308\n",
    "$$\n",
    "probability that a M.Sc man passes the course\n",
    "$$\n",
    "P(Passed|M.Sc,Gender=Men)=\\frac{P(Passed,M.Sc,Gender=Men)}{P(M.Sc,Gender=Men)}\n",
    "=\\frac{6}{6+3}=0.6667\n",
    "$$"
   ]
  },
  {
   "cell_type": "markdown",
   "metadata": {},
   "source": [
    "### Part 1c: Interpreting results\n",
    "\n",
    "Given the probabilities of passing that you have computed in the two parts above, discuss whether women are more likely to pass the course compared to men.\n",
    "Explain how you came to your conclusion using the data that is presented above."
   ]
  },
  {
   "cell_type": "markdown",
   "metadata": {},
   "source": [
    "### Solution description\n",
    "$$\n",
    "P(Passed|Gender=Women)=\\frac{P(Passed,Gender=Women)}{P(Gender=Women)}=\\frac{8+19}{8+1+19+7}=0.7714\n",
    "$$\n",
    "$$\n",
    "P(Passed|Gender=Men)=\\frac{P(Passed,Gender=Men)}{P(Gender=Men)}=\\frac{23+6}{23+3+6+3}=0.8286\n",
    "$$\n",
    "\n",
    "As we can see from the calculation of the probability,in whole, women (with probability **0.7714**) do easily fail compared with men (with probability **0.8286**) while both with master degree and bachelor, women are more easily to pass(**0.7308** to **0.6667** and **0.8889** to **0.8846** respectively). The paradox is the famous \"Simpson's paradox\".\n",
    "####Reference\n",
    "http://en.wikipedia.org/wiki/Simpson%27s_paradox"
   ]
  },
  {
   "cell_type": "markdown",
   "metadata": {},
   "source": [
    "### Part 1d: Computing conditional probability tables\n",
    "\n",
    "Compute the following conditional probability tables:\n",
    "* The probability of the level of the student (B.Sc or M.Sc) conditioned on the gender\n",
    "* The probability of the level of the student conditioned on whether the student passed"
   ]
  },
  {
   "cell_type": "markdown",
   "metadata": {},
   "source": [
    "### Solution description\n",
    "The probability of the level of the student (B.Sc or M.Sc) conditioned on the gender:\n",
    "\n",
    "$$\n",
    "P(B.Sc|Gender=Men)=\\frac{P(B.Sc,Gender=Men)}{P(Gender=Men)}=\\frac{23+3}{23+3+6+3}=0.7429\n",
    "$$\n",
    "$$\n",
    "P(B.Sc|Gender=Women)=\\frac{P(B.Sc,Gender=Women)}{P(Gender=Women)}=\\frac{8+1}{8+1+19+7}=0.2571\n",
    "$$\n",
    "$$\n",
    "P(M.Sc|Gender=Men)=\\frac{P(M.Sc,Gender=Men)}{P(Gender=Men)}=\\frac{6+3}{23+3+6+3}=0.2571\n",
    "$$\n",
    "$$\n",
    "P(M.Sc|Gender=Women)=\\frac{P(M.Sc,Gender=Women)}{P(Gender=Women)}=\\frac{19+7}{8+1+19+7}=0.7429\n",
    "$$\n",
    "Probability table:\n",
    "\n",
    "|             | Gender=Men | Gender=Women |\n",
    "|-------------|------------|--------------|\n",
    "| Degree=B.Sc | 0.7429     | 0.2571       | \n",
    "| Degree=M.Sc | 0.2571     | 0.7429       | \n",
    "\n",
    "\n",
    "The probability of the level of the student conditioned on whether the student passed:\n",
    "$$\n",
    "P(B.Sc|Passed=Yes)=\\frac{P(B.Sc,Passed=Yes)}{P(Passed=Yes)}=\\frac{8+23}{8+23+19+6}=0.5536\n",
    "$$\n",
    "$$\n",
    "P(B.Sc|Passed=No)=\\frac{P(B.Sc,Passed=No)}{P(Passed=No)}=\\frac{1+3}{1+3+7+3}=0.2857\n",
    "$$\n",
    "$$\n",
    "P(M.Sc|Passed=Yes)=\\frac{P(M.Sc,Passed=Yes)}{P(Passed=Yes)}=\\frac{19+6}{8+23+19+6}=0.4464\n",
    "$$\n",
    "$$\n",
    "P(M.Sc|Passed=No)=\\frac{P(M.Sc,Passed=No)}{P(Passed=No)}=\\frac{7+3}{1+3+7+3}=0.7143\n",
    "$$\n",
    "Probability table:\n",
    "\n",
    "|             | Passed=Yes | Passed=No |\n",
    "|-------------|------------|-----------|\n",
    "| Degree=B.Sc | 0.5536     | 0.2571    | \n",
    "| Degree=M.Sc | 0.4464     | 0.7143    | "
   ]
  },
  {
   "cell_type": "markdown",
   "metadata": {},
   "source": [
    "## Bayesian Network\n",
    "\n",
    "If you get Bronchitis, it is likely to cause Aches. Additionally it may be a severe Disease, especially if you have a Cough. Of course, not all Coughs result in a Disease, and some of them may be Fast healing. If your Disease is serious, it is likely to be an Emergency and you should head to hospital.\n",
    "\n",
    "Consider the following Bayesian Network that formalises the above scenario. It has the following variables:\n",
    "* **A**ches with states (False, True)\n",
    "* **B**ronchitis with states (none, mild, severe)\n",
    "* **C**ough with states (False, True)\n",
    "* **D**isease with states (healthy, carrier, sick, recovering)\n",
    "* **E**mergency with states (False, True)\n",
    "* **F**ast healing with states (False, True)"
   ]
  },
  {
   "cell_type": "code",
   "execution_count": 3,
   "metadata": {
    "collapsed": false
   },
   "outputs": [
    {
     "data": {
      "image/jpeg": "[encoded data removed]"
     },
     "metadata": {},
     "output_type": "display_data"
    }
   ],
   "source": [
    "%%tikz --scale 2 --size 700,300 -f jpg\n",
    "\\tikzstyle{vertex}=[circle, draw=black, fill=white, line width=0.5mm, minimum size=25pt, inner sep=0pt]\n",
    "\\tikzstyle{edge} = [draw, line width=1mm, ->]\n",
    "\n",
    "\\node[vertex,label=left:{Aches}] (a) at (0,0) {};\n",
    "\\node[vertex,label=above:{Bronchitis}] (b) at (1,1) {};\n",
    "\\node[vertex,label=above:{Cough}] (c) at (3,1) {};\n",
    "\\node[vertex,label=left:{Disease}] (d) at (2,0) {};\n",
    "\\node[vertex,label=right:{Emergency}] (e) at (3,-1) {};\n",
    "\\node[vertex,label=right:{Fast healing}] (f) at (4,0) {};\n",
    "\n",
    "\\foreach \\source/ \\dest in {b/a, b/d, c/d, d/e, c/f}\n",
    "        \\path[edge] (\\source) -- (\\dest);"
   ]
  },
  {
   "cell_type": "markdown",
   "metadata": {},
   "source": [
    "The conditional probabilities are given by the following tables.\n",
    "\n",
    "|$p(B)$ | B=n | B=m | B=s |\n",
    "|:-----:|:--:|:--:|:--:|\n",
    "|marginal| 0.97 | 0.01 | 0.02 |\n",
    "\n",
    "|$p(C)$ | C=False | C=True |\n",
    "|:-----:|:--:|:--:|\n",
    "|marginal| 0.7 | 0.3 |\n",
    "\n",
    "| $p(A|B)$ | B=n | B=m | B=s |\n",
    "|:-----:|:--:|:--:|:--:|\n",
    "|**A**=False |0.9|0.8|0.3|\n",
    "|**A**=True |0.1|0.2|0.7|\n",
    "\n",
    "| $p(D|B,C)$ | B=n, C=F | B=m, C=F | B=s, C=F | B=n, C=T | B=m, C=T | B=s, C=T |\n",
    "|:-----:|:--:|:--:|:--:|:--:|:--:|:--:|\n",
    "|**D**=healthy   |0.9 |0.8 |0.1 |  0.3 |0.4 |0.01|\n",
    "|**D**=carrier   |0.08|0.17|0.01|  0.05|0.05|0.01|\n",
    "|**D**=sick      |0.01|0.01|0.87|  0.05|0.15|0.97|\n",
    "|**D**=recovering|0.01|0.02|0.02|  0.6 |0.4 |0.01|\n",
    "\n",
    "| $p(E|D)$ | D=h | D=c | D=s | D=r |\n",
    "|:-----:|:--:|:--:|:--:|\n",
    "|**E**=False |0.99|0.99|0.4|0.9|\n",
    "|**E**=True |0.01|0.01|0.6|0.1|\n",
    "\n",
    "| $p(F|C)$ | C=False | C=True |\n",
    "|:-----:|:--:|:--:|\n",
    "|**F**=False |0.99|0.2|\n",
    "|**F**=True |0.01|0.8|"
   ]
  },
  {
   "cell_type": "markdown",
   "metadata": {},
   "source": [
    "## Part 2: (6 points) Markov Chain Monte Carlo\n",
    "\n",
    "We consider a special case of the Metropolis Hastings algorithm. \n",
    "Recall that the Metropolis Hastings algorithm uses the current sample to decide which next sample to produce.\n",
    "We use the proposal distribution which is the conditional distribution of a single variable, conditioned on the current state of all the other variables. We cycle through all the variables at each time step, updating the current state. That is for each step, we sample:\n",
    "* p(A | B,C,D,E,F)\n",
    "* p(B | A,C,D,E,F)\n",
    "* p(C | A,B,D,E,F)\n",
    "* p(D | A,B,C,E,F)\n",
    "* p(E | A,B,C,D,F)\n",
    "* p(F | A,B,C,D,E)\n",
    "\n",
    "After each sampling step, we use the sample as the new state of the variable.\n",
    "\n",
    "### Part 2a: Implement MCMC algorithm\n",
    "\n",
    "Implement this Markov chain Monte Carlo algorithm for the above graphical model. Use\n",
    "$$\n",
    "p(A=False, B=none, C=False, D=healthy, E=False, F=False)\n",
    "$$\n",
    "as the initial state.\n",
    "\n",
    "*Hint: You may find ```numpy.random.multinomial``` useful.*\n",
    "\n",
    "*Hint: Many of the proposal distributions can be simplified due to the structure of the graphical model.*"
   ]
  },
  {
   "cell_type": "markdown",
   "metadata": {},
   "source": [
    "###Solution Description\n",
    "As we can see from the proposal distribution, they can be simplified.\n",
    "* p(A | B,C,D,E,F)\n",
    "\\begin{align*}\n",
    "p(A | B,C,D,E,F)&=\\frac{p(A,B,C,D,E,F)}{p(B,C,D,E,F)}\\\\\n",
    "&=\\frac{p(A|B)p(B)p(C)p(D|B,C)p(E|D)p(F|C)}{\\sum_A{p(A|B)p(B)p(C)p(D|B,C)p(E|D)p(F|C)}}\\\\\n",
    "&=p(A|B)\n",
    "\\end{align*}\n",
    "* p(B | A,C,D,E,F)\n",
    "\\begin{align*}\n",
    "p(B | A,C,D,E,F)&=\\frac{p(A,B,C,D,E,F)}{p(A,C,D,E,F)}\\\\\n",
    "&=\\frac{p(A|B)p(B)p(C)p(D|B,C)p(E|D)p(F|C)}{\\sum_B{p(A|B)p(B)p(C)p(D|B,C)p(E|D)p(F|C)}}\\\\\n",
    "&=\\frac{p(A|B)p(B)p(D|B,C)}{\\sum_B{p(A|B)p(B)p(D|B,C)}}\n",
    "\\end{align*}\n",
    "Since $\\sum_B{p(A|B)p(B)p(D|B,C)}$ is a constant.So:\n",
    "$$\n",
    "p(B | A,C,D,E,F)\\propto p(A|B)p(B)p(D|B,C)\n",
    "$$\n",
    "* p(C | A,B,D,E,F)\n",
    "\\begin{align*}\n",
    "p(C | A,B,D,E,F)&=\\frac{p(A,B,C,D,E,F)}{p(A,B,D,E,F)}\\\\\n",
    "&=\\frac{p(A|B)p(B)p(C)p(D|B,C)p(E|D)p(F|C)}{\\sum_C{p(A|B)p(B)p(C)p(D|B,C)p(E|D)p(F|C)}}\\\\\n",
    "&=\\frac{p(C)p(D|B,C)p(F|C)}{\\sum_C{p(C)p(D|B,C)p(F|C)}}\n",
    "\\end{align*}\n",
    "Since $\\sum_C{p(C)p(D|B,C)p(F|C)}$ is a constant.So:\n",
    "$$\n",
    "p(C | A,B,D,E,F)\\propto p(C)p(D|B,C)p(F|C)\n",
    "$$\n",
    "* p(D | A,B,C,E,F)\n",
    "\\begin{align*}\n",
    "p(D | A,B,C,E,F)&=\\frac{p(A,B,C,D,E,F)}{p(A,B,C,E,F)}\\\\\n",
    "&=\\frac{p(A|B)p(B)p(C)p(D|B,C)p(E|D)p(F|C)}{\\sum_D{p(A|B)p(B)p(C)p(D|B,C)p(E|D)p(F|C)}}\\\\\n",
    "&=\\frac{p(D|B,C)p(E|D)}{\\sum_D{p(D|B,C)p(E|D)}}\n",
    "\\end{align*}\n",
    "Since $\\sum_D{p(D|B,C)p(E|D)}$ is a constant.So:\n",
    "$$\n",
    "p(D | A,B,C,E,F)\\propto p(D|B,C)p(E|D)\n",
    "$$\n",
    "* p(E | A,B,C,D,F)\n",
    "\\begin{align*}\n",
    "p(E | A,B,C,D,F)&=\\frac{p(A,B,C,D,E,F)}{p(A,B,C,D,F)}\\\\\n",
    "&=\\frac{p(A|B)p(B)p(C)p(D|B,C)p(E|D)p(F|C)}{\\sum_E{p(A|B)p(B)p(C)p(D|B,C)p(E|D)p(F|C)}}\\\\\n",
    "&=p(E|D)\n",
    "\\end{align*}\n",
    "* p(F | A,B,C,D,E)\n",
    "\\begin{align*}\n",
    "p(F | A,B,C,D,E)&=\\frac{p(A,B,C,D,E,F)}{p(A,B,C,D,E)}\\\\\n",
    "&=\\frac{p(A|B)p(B)p(C)p(D|B,C)p(E|D)p(F|C)}{\\sum_F{p(A|B)p(B)p(C)p(D|B,C)p(E|D)p(F|C)}}\\\\\n",
    "&=p(F|C)\n",
    "\\end{align*}"
   ]
  },
  {
   "cell_type": "code",
   "execution_count": 55,
   "metadata": {
    "collapsed": false
   },
   "outputs": [
    {
     "name": "stdout",
     "output_type": "stream",
     "text": [
      "       A    B    C    D    E    F\n",
      "0    A=T  B=s  C=F  D=s  E=T  F=F\n",
      "1    A=T  B=s  C=F  D=s  E=F  F=F\n",
      "2    A=T  B=s  C=F  D=s  E=T  F=F\n",
      "3    A=F  B=s  C=F  D=s  E=F  F=F\n",
      "4    A=T  B=s  C=F  D=s  E=F  F=F\n",
      "5    A=T  B=s  C=F  D=s  E=T  F=F\n",
      "6    A=T  B=s  C=F  D=s  E=T  F=F\n",
      "7    A=T  B=s  C=F  D=c  E=F  F=F\n",
      "8    A=F  B=s  C=F  D=h  E=F  F=F\n",
      "9    A=T  B=s  C=F  D=s  E=T  F=F\n",
      "10   A=T  B=s  C=F  D=s  E=T  F=F\n",
      "11   A=T  B=s  C=F  D=s  E=T  F=F\n",
      "12   A=T  B=s  C=F  D=s  E=F  F=F\n",
      "13   A=F  B=s  C=T  D=s  E=F  F=T\n",
      "14   A=F  B=s  C=T  D=s  E=T  F=F\n",
      "15   A=F  B=s  C=F  D=s  E=T  F=F\n",
      "16   A=T  B=s  C=T  D=s  E=F  F=T\n",
      "17   A=T  B=s  C=F  D=s  E=T  F=F\n",
      "18   A=F  B=s  C=T  D=s  E=F  F=T\n",
      "19   A=T  B=s  C=T  D=s  E=T  F=T\n",
      "20   A=F  B=s  C=F  D=s  E=F  F=F\n",
      "21   A=T  B=s  C=T  D=r  E=F  F=T\n",
      "22   A=T  B=s  C=T  D=s  E=T  F=T\n",
      "23   A=T  B=s  C=F  D=s  E=T  F=F\n",
      "24   A=T  B=s  C=F  D=s  E=T  F=F\n",
      "25   A=T  B=s  C=F  D=s  E=T  F=F\n",
      "26   A=F  B=s  C=F  D=s  E=F  F=F\n",
      "27   A=T  B=s  C=F  D=s  E=T  F=F\n",
      "28   A=T  B=s  C=F  D=h  E=F  F=F\n",
      "29   A=T  B=s  C=F  D=s  E=T  F=F\n",
      "..   ...  ...  ...  ...  ...  ...\n",
      "870  A=T  B=s  C=F  D=c  E=F  F=F\n",
      "871  A=T  B=s  C=F  D=s  E=F  F=F\n",
      "872  A=F  B=s  C=F  D=s  E=F  F=F\n",
      "873  A=T  B=s  C=T  D=s  E=T  F=T\n",
      "874  A=F  B=s  C=F  D=s  E=T  F=F\n",
      "875  A=T  B=s  C=T  D=s  E=T  F=T\n",
      "876  A=T  B=s  C=T  D=s  E=F  F=T\n",
      "877  A=T  B=s  C=T  D=s  E=T  F=T\n",
      "878  A=T  B=s  C=F  D=h  E=F  F=F\n",
      "879  A=T  B=s  C=F  D=h  E=F  F=F\n",
      "880  A=F  B=s  C=F  D=s  E=T  F=F\n",
      "881  A=T  B=s  C=F  D=s  E=T  F=F\n",
      "882  A=T  B=s  C=T  D=s  E=T  F=T\n",
      "883  A=T  B=s  C=F  D=s  E=F  F=F\n",
      "884  A=T  B=s  C=T  D=s  E=F  F=T\n",
      "885  A=T  B=s  C=F  D=h  E=F  F=F\n",
      "886  A=T  B=s  C=F  D=h  E=F  F=F\n",
      "887  A=T  B=s  C=F  D=s  E=T  F=F\n",
      "888  A=T  B=s  C=T  D=s  E=F  F=F\n",
      "889  A=T  B=s  C=F  D=s  E=T  F=F\n",
      "890  A=T  B=s  C=F  D=s  E=F  F=F\n",
      "891  A=T  B=s  C=F  D=s  E=T  F=F\n",
      "892  A=T  B=s  C=F  D=s  E=T  F=F\n",
      "893  A=T  B=s  C=F  D=s  E=T  F=F\n",
      "894  A=T  B=s  C=T  D=s  E=T  F=T\n",
      "895  A=F  B=s  C=T  D=s  E=F  F=T\n",
      "896  A=T  B=s  C=F  D=s  E=T  F=F\n",
      "897  A=T  B=s  C=F  D=s  E=F  F=F\n",
      "898  A=F  B=s  C=F  D=s  E=T  F=F\n",
      "899  A=T  B=s  C=F  D=s  E=F  F=F\n",
      "\n",
      "[900 rows x 6 columns]\n",
      "Time Cost: 8.702487999999988s\n"
     ]
    }
   ],
   "source": [
    "def iniProbabilityTable():\n",
    "    \"\"\"\n",
    "    construct the probability distribution according to the distribution tables\n",
    "    \n",
    "    \"\"\"\n",
    "    #probabilty of B\n",
    "    pB_array=np.array([[0.97],[0.01],[0.02]])\n",
    "    #probabilty of C\n",
    "    pC_array=np.array([[0.7],[0.3]])\n",
    "    #probabilty of A given C\n",
    "    pA_B_array=np.array([[0.9,0.8,0.3],[0.1,0.2,0.7]])\n",
    "    #probabilty of D given BC\n",
    "    pD_BC_array=np.array([[0.9,0.8,0.1,0.3,0.4,0.01],[0.08,0.17,0.01,0.05,0.05,0.01],[0.01,0.01,0.87,0.05,0.15,0.97],[0.01,0.02,0.02,0.6,0.4,0.01]])\n",
    "    #probabilty of E given D\n",
    "    pE_D_array=np.array([[0.99,0.99,0.4,0.9],[0.01,0.01,0.6,0.1]])\n",
    "    #probabilty of F given C\n",
    "    pF_C_array=np.array([[0.99,0.2],[0.01,0.8]])\n",
    "    label_A=['A=F','A=T']\n",
    "    label_B=['B=n','B=m','B=s']\n",
    "    label_C=['C=F','C=T']\n",
    "    label_D=['D=h','D=c','D=s','D=r']\n",
    "    label_E=['E=F','E=T']\n",
    "    label_F=['F=F','F=T']\n",
    "    label_BC = list(zip(*[np.array(['B=n','B=m','B=s','B=n','B=m','B=s']),np.array(['C=F', 'C=F', 'C=F', 'C=T', 'C=T', 'C=T'])]))\n",
    "    pB = pd.DataFrame(pB_array,index=pd.Index(label_B,name='B'))\n",
    "    pC=pd.DataFrame(pC_array,index=pd.Index(label_C,name='C'))\n",
    "    pA_B=pd.DataFrame(pA_B_array,index=pd.Index(label_A,name='A'),columns=pd.Index(label_B,name='B'))\n",
    "    pD_BC=pd.DataFrame(pD_BC_array,index=pd.Index(label_D,name='D'),columns=pd.MultiIndex.from_tuples(label_BC,names=['B','C']))\n",
    "    pE_D=pd.DataFrame(pE_D_array,index=pd.Index(label_E,name='E'),columns=pd.Index(label_D,name='D'))\n",
    "    pF_C=pd.DataFrame(pF_C_array,index=pd.Index(label_F,name='F'),columns=pd.Index(label_C,name='C'))\n",
    "    return pB,pC,pA_B,pD_BC,pE_D,pF_C,label_A,label_B,label_C,label_D,label_E,label_F\n",
    "def gibbsSample(pB,pC,pA_B,pD_BC,pE_D,pF_C,label_A,label_B,label_C,label_D,label_E,label_F,T):\n",
    "    \"\"\"\n",
    "    \n",
    "    \"\"\"\n",
    "    #initial state\n",
    "    sample=['A=F','B=s','C=F','D=h','E=F','F=F']\n",
    "    sampleState=[]\n",
    "    for i in range(T):\n",
    "        #draw sample A from p(A | B,C,D,E,F)\n",
    "        sample_A=sampleA(sample,pA_B)\n",
    "        sample[0]=sample_A\n",
    "        #draw sample B from p(B | A,C,D,E,F)\n",
    "        #sample_B=sampleB(sample,pB,pA_B,pD_BC)\n",
    "        sample[1]='B=s'\n",
    "        #draw sample C from p(C | A,B,D,E,F)\n",
    "        sample_C=sampleC(sample,pC,pD_BC,pF_C)\n",
    "        sample[2]=sample_C\n",
    "        #draw sample D from p(D | A,B,C,E,F)\n",
    "        sample_D=sampleD(sample,pD_BC,pE_D)\n",
    "        sample[3]=sample_D\n",
    "        #draw sample E from p(E | A,B,C,D,F)\n",
    "        sample_E=sampleE(sample,pE_D)\n",
    "        sample[4]=sample_E\n",
    "        #draw sample F from p(F | A,B,C,D,E)\n",
    "        sample_F=sampleF(sample,pF_C)\n",
    "        sample[5]=sample_F\n",
    "        sampleState.append(list(sample))\n",
    "    return sampleState\n",
    "        \n",
    "def sampleA(sample,pA_B):\n",
    "    \"\"\"\n",
    "    sample A function\n",
    "    \"\"\"\n",
    "    margin_A=pA_B[sample[1]]\n",
    "    index=np.random.multinomial(1,margin_A).argmax()\n",
    "    return label_A[index]\n",
    "def sampleB(sample,pB,pA_B,pD_BC):\n",
    "    \"\"\"\n",
    "    sample B function\n",
    "    \"\"\"\n",
    "    unnorm_margin_B=pD_BC.loc[sample[3]].loc[:,sample[2]].values*pB.values.T*pA_B.loc[sample[0]].values\n",
    "    margin_B=unnorm_margin_B/np.sum(unnorm_margin_B)\n",
    "    index=np.random.multinomial(1,margin_B[0]).argmax()\n",
    "    return label_B[index]\n",
    "def sampleC(sample,pC,pD_BC,pF_C):\n",
    "    \"\"\"\n",
    "    sample C function\n",
    "    \"\"\"\n",
    "    unnorm_margin_C=pD_BC.loc[sample[3]].loc[sample[1]].values*pC.values.T*pF_C.loc[sample[5]].values\n",
    "    margin_C=unnorm_margin_C/np.sum(unnorm_margin_C)\n",
    "    index=np.random.multinomial(1,margin_C[0]).argmax()\n",
    "    return label_C[index]\n",
    "def sampleD(sample,pD_BC,pE_D):\n",
    "    \"\"\"\n",
    "    sample D function\n",
    "    \"\"\"\n",
    "    unnorm_margin_D=pD_BC.loc[:,(sample[1],sample[2])].values*pE_D.loc[sample[4]].values\n",
    "    margin_D=unnorm_margin_D/np.sum(unnorm_margin_D)\n",
    "    index=np.random.multinomial(1,margin_D).argmax()\n",
    "    return label_D[index]\n",
    "def sampleE(sample,pE_D):\n",
    "    \"\"\"\n",
    "    sample E function\n",
    "    \"\"\"\n",
    "    margin_E=pE_D[sample[3]]\n",
    "    index=np.random.multinomial(1,margin_E).argmax()\n",
    "    return label_E[index]\n",
    "def sampleF(sample,pF_C):\n",
    "    \"\"\"\n",
    "    sample F function\n",
    "    \"\"\"\n",
    "    margin_F=pF_C[sample[2]]\n",
    "    index=np.random.multinomial(1,margin_F).argmax()\n",
    "    return label_F[index]\n",
    "def toDataFrame(sampleState):\n",
    "    \"\"\"\n",
    "    add headers on the sampled data\n",
    "    \"\"\"\n",
    "    headers=['A','B','C','D','E','F']\n",
    "    return pd.DataFrame(sampleState,columns=headers)\n",
    "current_time=time.clock()\n",
    "T=5000 #iteration times default is 4000\n",
    "#np.random.seed(1)#default seed is 1\n",
    "#initial probability table\n",
    "pB,pC,pA_B,pD_BC,pE_D,pF_C,label_A,label_B,label_C,label_D,label_E,label_F=iniProbabilityTable()\n",
    "# do the gibbs sampling\n",
    "sampleState=gibbsSample(pB,pC,pA_B,pD_BC,pE_D,pF_C,label_A,label_B,label_C,label_D,label_E,label_F,T)\n",
    "newSample=[]\n",
    "for i in range(500,5000,5):\n",
    "    newSample.append(sampleState[i])\n",
    "sampleData=toDataFrame(newSample)\n",
    "print (sampleData)   #print sampled data points\n",
    "print ('Time Cost: '+str(time.clock()-current_time)+'s')   #print the time cost"
   ]
  },
  {
   "cell_type": "markdown",
   "metadata": {},
   "source": [
    "### Part 2b: Proposed algorithm is a valid MCMC method\n",
    "\n",
    "In the lectures, you have seen that Metropolis Hastings algorithms need to satisfy certain properties. State these properties and show that the proposed algorithm satisfies them."
   ]
  },
  {
   "cell_type": "markdown",
   "metadata": {},
   "source": [
    "### Solution description\n",
    "Firstly, MCMC must satisfy *ergodicity*, which means when number of samples $m->\\infty$, the distribution $p(\\mathbf{z}^{(m)})$ will converge to one desired *invariant* distribution $p^*(\\mathbf{z})$. Here we define $\\mathbf{z}=(A,B,C,D,E,F)$.\n",
    "\n",
    "####Proof for invariant\n",
    "To achieve the property **invariant**, we should construct a transition probability to satisfy the property of *detailed banlance*, which is the sufficient but not necessary condition to ensure *invariant*.\n",
    "$$\n",
    "p^*(\\mathbf{z})T(\\mathbf{z},\\mathbf{z}')=p^*(\\mathbf{z}')T(\\mathbf{z}',\\mathbf{z})\n",
    "$$\n",
    "where:\n",
    "$\n",
    "T(\\mathbf{z}',\\mathbf{z})\n",
    "$ is the transition probability.\n",
    "Because we draw samples from:\n",
    "* p(A | B,C,D,E,F)\n",
    "* p(B | A,C,D,E,F)\n",
    "* p(C | A,B,D,E,F)\n",
    "* p(D | A,B,C,E,F)\n",
    "* p(E | A,B,C,D,F)\n",
    "* p(F | A,B,C,D,E)\n",
    "\n",
    "So the transition probability from $\\mathbf{z}$ to $\\mathbf{z}'$ (here we use the note $q_k(\\mathbf{z}'|\\mathbf{z})$) can be regarded as $p(z'_k|\\mathbf{z}_{\\backslash k})$. \n",
    "\n",
    "Then let's calculate the accept probability:\n",
    "\\begin{align*}\n",
    "A(\\mathbf{z}',\\mathbf{z})&=min(1,\\frac{p(\\mathbf{z}')q_k(\\mathbf{z}|\\mathbf{z}')}{p(\\mathbf{z})q_k(\\mathbf{z}'|\\mathbf{z})})\\\\\n",
    "&=min(1,\\frac{p(z_k'|\\mathbf{z}_{\\backslash k}')p(\\mathbf{z}_{\\backslash k}')p(z_k|\\mathbf{z}_{\\backslash k}')}{p(z_k|\\mathbf{z}_{\\backslash k})p(\\mathbf{z}_{\\backslash k})p(z_k'|\\mathbf{z}_{\\backslash k})})\\\\\n",
    "\\end{align*}\n",
    "\n",
    "Because $$p(z_k'|\\mathbf{z}_{\\backslash k}')p(\\mathbf{z}_{\\backslash k}')p(z_k|\\mathbf{z}_{\\backslash k}')=p(z_k|\\mathbf{z}_{\\backslash k})p(\\mathbf{z}_{\\backslash k})p(z_k'|\\mathbf{z}_{\\backslash k})$$ where we used the fact that $\\mathbf{z}_{\\backslash k}$ is fixed so $\\mathbf{z}_{\\backslash k}'=\\mathbf{z}_{\\backslash k}$ because the components are unchanged by the sampling steps. Here we can see the detailed banlance was already constructed.\n",
    "\n",
    "And in this particular case accept rate:\n",
    "$$\n",
    "A(\\mathbf{z}',\\mathbf{z})=1\n",
    "$$\n",
    "####Proof for ergodic\n",
    "To achieve the **ergodic**, one simple way to ensure ergodicity of T is to have $T(\\mathbf{z}',\\mathbf{z}) > 0$ for all $\\mathbf{z}'$,$\\mathbf{z}$. Because only in this situation, any points in $\\mathbf{z}$ space can be reached from any other point in a finite number. It is obvious that all dimensions are updated with positive probability. So this sample procedure is *ergodic*.\n",
    "###Reference\n",
    "Christopher M. Bishop *“Pattern Recognition and Machine Learning”* chapter 11\n",
    "http://www.cc.gatech.edu/~lebanon/notes/metropolis.pdf"
   ]
  },
  {
   "cell_type": "markdown",
   "metadata": {},
   "source": [
    "### Part 2c: Estimating probabilities\n",
    "\n",
    "Use the sampler you implemented above to get estimates of the probabilities below.\n",
    "Choose appropriate values for burn in and the number of samples to use for the empirical probabilities.\n",
    "Plot the empirical probabilities that you obtain for the following:\n",
    "* p(E)\n",
    "* p(E|B=s)\n",
    "* p(E|B=s, C=T)\n",
    "\n",
    "###Reason to choose mixing point\n",
    "\n",
    "We assume the point at half of the sampling is the mixing point which means after this point\n",
    "the distribution is invariant\n",
    "\n",
    "The reason why we chose this point is because as calculated after multiplying the distribution tables ,there are 192 entries. \n",
    "\n",
    "So if we iterate 2000 times, on average each entries will be sampled 10 times(just on average). Now since I sampled 4000 times, at half of the data points (2000 times) could be a good heuristic evaluation."
   ]
  },
  {
   "cell_type": "code",
   "execution_count": 56,
   "metadata": {
    "collapsed": false
   },
   "outputs": [
    {
     "data": {
      "image/png": "[encoded data removed]",
      "text/plain": [
       "<matplotlib.figure.Figure at 0x1145095f8>"
      ]
     },
     "metadata": {},
     "output_type": "display_data"
    },
    {
     "name": "stdout",
     "output_type": "stream",
     "text": [
      "Probability p(E=True)=0.544444444444\n",
      "Probability p(E=False)=0.455555555556\n"
     ]
    },
    {
     "data": {
      "image/png": "[encoded data removed]",
      "text/plain": [
       "<matplotlib.figure.Figure at 0x115373fd0>"
      ]
     },
     "metadata": {},
     "output_type": "display_data"
    },
    {
     "name": "stdout",
     "output_type": "stream",
     "text": [
      "Probability p(E=True|B=s)=0.544444444444\n",
      "Probability p(E=False|B=s)=0.455555555556\n"
     ]
    },
    {
     "data": {
      "image/png": "[encoded data removed]",
      "text/plain": [
       "<matplotlib.figure.Figure at 0x1145a7cc0>"
      ]
     },
     "metadata": {},
     "output_type": "display_data"
    },
    {
     "name": "stdout",
     "output_type": "stream",
     "text": [
      "Probability p(E=True|B=s,C=T)=0.556818181818\n",
      "Probability p(E=False|B=s,C=T)=0.443181818182\n"
     ]
    }
   ],
   "source": [
    "\n",
    "def plot_pE(sampleData):\n",
    "    \"\"\"\n",
    "    plot P(E)\n",
    "    \"\"\"\n",
    "    try:\n",
    "        norm=sampleData['E'].shape[0]\n",
    "        p_E_count = Counter(sampleData['E'].values)\n",
    "        p_E = np.array((p_E_count['E=F'],p_E_count['E=T']))/float(norm)\n",
    "        xk = np.arange(2)\n",
    "        pk = p_E\n",
    "        custm = stats.rv_discrete(name='custm', values=(xk, pk))\n",
    "        plt.plot(xk, custm.pmf(xk), 'ro', mec='r')\n",
    "        plt.vlines(xk, 0, custm.pmf(xk), colors='r', lw=4)\n",
    "        plt.xticks(xk,['p(E=False)','p(E=True)'])\n",
    "        plt.xlabel('p(E)')\n",
    "        plt.ylabel('Probability')\n",
    "        plt.xlim(-0.1,1.1)\n",
    "        plt.show()\n",
    "        print ('Probability p(E=True)='+str(p_E[1]))\n",
    "        print ('Probability p(E=False)='+str(p_E[0]))\n",
    "    except Exception:\n",
    "        print (\"Sorry, error exists!\")\n",
    "        print (\"95%:sampling didn't get samples of (E)! Please get more samples and try again.\")\n",
    "        print (\"4%:pandas and scipy version is not compatible! Please update your pandas and scipy to the latest version(0.16.0,0.15.1)!\")\n",
    "        print (\"1%:unknown bugs\")\n",
    "def plot_pE_Bs(sampleData):\n",
    "    \"\"\"\n",
    "    plot P(E|B=s)\n",
    "    \"\"\"\n",
    "    try:\n",
    "        condition_Data=sampleData[(sampleData.B=='B=s')]\n",
    "        norm=condition_Data.shape[0]\n",
    "        pE_Bs_count = Counter(condition_Data['E'].values)\n",
    "        pE_Bs = np.array((pE_Bs_count['E=F'],pE_Bs_count['E=T']))/float(norm)\n",
    "        xk = np.arange(2)\n",
    "        pk = pE_Bs\n",
    "        custm = stats.rv_discrete(name='custm', values=(xk, pk))\n",
    "        plt.plot(xk, custm.pmf(xk), 'ro', mec='r')\n",
    "        plt.vlines(xk, 0, custm.pmf(xk), colors='r', lw=4)\n",
    "        plt.xlabel('p(E|B=s)')\n",
    "        plt.ylabel('Probability')\n",
    "        plt.xlim(-0.1,1.1)\n",
    "        plt.xticks(xk,['p(E=False|B=s)','p(E=True|B=s)'])\n",
    "        plt.show()\n",
    "        print ('Probability p(E=True|B=s)='+str(pE_Bs[1]))\n",
    "        print ('Probability p(E=False|B=s)='+str(pE_Bs[0]))\n",
    "    except Exception:\n",
    "        print (\"Sorry, error exists!\")\n",
    "        print (\"95%:sampling didn't get samples of (E|B=s)! Please get more samples and try again.\")\n",
    "        print (\"4%:pandas and scipy version is not compatible! Please update your pandas and scipy to the latest version(0.16.0,0.15.1)!\")\n",
    "        print (\"1%:unknown bugs\")\n",
    "def plot_pE_Bs_Ct(sampleData):\n",
    "    \"\"\"\n",
    "    plot P(E|B=s,C=t)\n",
    "    \"\"\"\n",
    "    try:\n",
    "        condition_Data=sampleData[(sampleData.B=='B=s')&(sampleData.C=='C=T')]\n",
    "        norm=condition_Data.shape[0]\n",
    "        pE_Bs_Ct_count = Counter(condition_Data['E'].values)\n",
    "        pE_Bs_Ct = np.array((pE_Bs_Ct_count['E=F'],pE_Bs_Ct_count['E=T']))/float(norm)\n",
    "        xk = np.arange(2)\n",
    "        pk = pE_Bs_Ct\n",
    "        custm = stats.rv_discrete(name='custm', values=(xk, pk))\n",
    "        plt.plot(xk, custm.pmf(xk), 'ro', mec='r')\n",
    "        plt.vlines(xk, 0, custm.pmf(xk), colors='r', lw=4)\n",
    "        plt.xlabel('p(E|B=s,C=t)')\n",
    "        plt.ylabel('Probability')\n",
    "        plt.xlim(-0.1,1.1)\n",
    "        plt.xticks(xk,['p(E=False|B=s,C=T)','p(E=True|B=s,C=T)'])\n",
    "        plt.show()\n",
    "        print ('Probability p(E=True|B=s,C=T)='+str(pE_Bs_Ct[1]))\n",
    "        print ('Probability p(E=False|B=s,C=T)='+str(pE_Bs_Ct[0]))\n",
    "    except Exception:\n",
    "        print (\"Sorry, error exists!\")\n",
    "        print (\"95%:sampling didn't get samples of (E|B=s,C=T)! Please get more samples and try again.\")\n",
    "        print (\"4%:pandas and scipy version is not compatible! Please update your pandas and scipy to the latest version(0.16.0,0.15.1)!\")\n",
    "        print (\"1%:unknown bugs\")\n",
    "#choose half of the data points as the invariant point\n",
    "sampleNumber=sampleData.shape[0]\n",
    "mixingData=sampleData.iloc[int(sampleNumber/2):sampleNumber]\n",
    "plot_pE(sampleData)\n",
    "plot_pE_Bs(sampleData)\n",
    "plot_pE_Bs_Ct(sampleData)"
   ]
  },
  {
   "cell_type": "markdown",
   "metadata": {},
   "source": [
    "## Part 3: (7 points) Message Passing\n",
    "\n",
    "In this section, we use the same distribution as above."
   ]
  },
  {
   "cell_type": "markdown",
   "metadata": {},
   "source": [
    "### Part 3a: Factor graph\n",
    "\n",
    "Draw the factor graph (in tikz) corresponding to the Bayesian Network above which that consists of the factors:\n",
    "\n",
    "* f(A,B)\n",
    "* f(B,C,D)\n",
    "* f(C)\n",
    "* f(D,E)\n",
    "* f(C,F)\n",
    "\n",
    "Write down the factors in terms of the conditional probability tables above.\n",
    "\n",
    "*The tikz code needs to be in a cell by itself.*"
   ]
  },
  {
   "cell_type": "markdown",
   "metadata": {},
   "source": [
    "According to the Bayesian Network, the joint probability:\n",
    "\\begin{align*}\n",
    "P(A,B,C,D,E)&=P(B)P(C)P(A|B)P(D|B,C)P(F|C)P(E|D)\\\\\n",
    "&=f(A,B)f(B,C,D)f(C)f(D,E)f(C,F)\n",
    "\\end{align*}\n",
    "So,\n",
    "\\begin{align*}\n",
    "f(A,B)&=P(A|B)P(B)\\\\\n",
    "f(B,C,D)&=P(D|B,C)\\\\\n",
    "f(C)&=P(C)\\\\\n",
    "f(D,E)&=P(E|D)\\\\\n",
    "f(C,F)&=P(F|C)\\\\\n",
    "\\end{align*}\n"
   ]
  },
  {
   "cell_type": "code",
   "execution_count": 6,
   "metadata": {
    "collapsed": false
   },
   "outputs": [
    {
     "data": {
      "image/jpeg": "[encoded data removed]"
     },
     "metadata": {},
     "output_type": "display_data"
    }
   ],
   "source": [
    "%%tikz --scale 2 --size 700,300 -f jpg\n",
    "\\tikzstyle{vertex}=[circle, draw=black, fill=white, line width=0.5mm, minimum size=25pt, inner sep=0pt]\n",
    "\\tikzstyle{edge} = [draw, line width=1mm, -]\n",
    "\n",
    "\\node[vertex,label=below:{Aches}] (a) at (0,0) {};\n",
    "\\node[vertex,label=below:{Bronchitis}] (b) at (2,0) {};\n",
    "\\node[vertex,label=below:{Cough}] (c) at (4,0) {};\n",
    "\\node[vertex,label=below:{Disease}] (d) at (6,0) {};\n",
    "\\node[vertex,label=below:{Emergency}] (e) at (8,0) {};\n",
    "\\node[vertex,label=below:{Fast healing}] (f) at (10,0) {};\n",
    "\\tikzstyle{vertex}=[rectangle, draw=black, fill=black, line width=0.5mm, minimum size=12pt, inner sep=0pt]\n",
    "\\node[vertex,label=above:{f(A,B)}] (g) at (1,1) {};\n",
    "\\node[vertex,label=above:{f(B,C,D)}] (h) at (3,1) {};\n",
    "\\node[vertex,label=above:{f(C)}] (i) at (5,1) {};\n",
    "\\node[vertex,label=above:{f(D,E)}] (j) at (7,1) {};\n",
    "\\node[vertex,label=above:{f(C,F)}] (k) at (9,1) {};\n",
    "\\foreach \\source/ \\dest in {a/g, g/b, h/b, h/c, h/d,i/c,j/d,j/e,k/c,k/f}\n",
    "        \\path[edge] (\\source) -- (\\dest);"
   ]
  },
  {
   "cell_type": "markdown",
   "metadata": {},
   "source": [
    "### Part 3b: Messages at leaf nodes\n",
    "\n",
    "Implement the two functions corresponding to when the leaf nodes are variables and factors."
   ]
  },
  {
   "cell_type": "code",
   "execution_count": 7,
   "metadata": {
    "collapsed": false
   },
   "outputs": [],
   "source": [
    "def varAsLeaf():\n",
    "    \"\"\"\n",
    "    variable as leaf\n",
    "    \"\"\"\n",
    "    return 1\n",
    "def factAsLeaf(fx):\n",
    "    \"\"\"\n",
    "    factor as leaf\n",
    "    \"\"\"\n",
    "    return fx"
   ]
  },
  {
   "cell_type": "markdown",
   "metadata": {},
   "source": [
    "### Part 3c: Messages at internal nodes\n",
    "\n",
    "Implement the two functions that compute the messages:\n",
    "* going from variable node to factor node\n",
    "* going from factor node to variable node\n",
    "\n",
    "The functions should be flexible enough to work with all the factors and variables with the same interface."
   ]
  },
  {
   "cell_type": "code",
   "execution_count": 8,
   "metadata": {
    "collapsed": false
   },
   "outputs": [],
   "source": [
    "\"\"\"\n",
    "initial the factors\n",
    "for calculation convenience,we reshape the distribution table as one \n",
    "dimension vectors with multiindex\n",
    "\"\"\"\n",
    "fAB=pA_B.multiply(pB.T.squeeze().values,axis='columns').stack()\n",
    "fBCD=pD_BC.stack().stack()\n",
    "fC=pC.squeeze()\n",
    "fDE=pE_D.stack()\n",
    "fCF=pF_C.stack()\n",
    "\"\"\"\n",
    "map the factors with the labels\n",
    "\"\"\"\n",
    "pDict={}\n",
    "pDict['fAB']=fAB\n",
    "pDict['fBCD']=fBCD\n",
    "pDict['fC']=fC\n",
    "pDict['fDE']=fDE\n",
    "pDict['fCF']=fCF\n",
    "def constructGraph():\n",
    "    \"\"\"\n",
    "    construct bipartite graph using a matrix, each factor or variable corresponds to a index\n",
    "    the elements in matrix:\n",
    "    1  -- connected\n",
    "    -1 -- not connected\n",
    "    index of factors in row:\n",
    "    ['fAB','fBCD','fC','fDE','fCF']\n",
    "    index of variables in column:\n",
    "    ['A','B','C','D','E','F']\n",
    "    \"\"\"\n",
    "    columns=['A','B','C','D','E','F']\n",
    "    index=['fAB','fBCD','fC','fDE','fCF']\n",
    "    connection=np.array([[1,1,-1,-1,-1,-1],[-1,1,1,1,-1,-1],[-1,-1,1,-1,-1,-1],[-1,-1,-1,1,1,-1],[-1,-1,1,-1,-1,1]])\n",
    "    factorGraph=pd.DataFrame(connection,index,columns)\n",
    "    return factorGraph\n",
    "\n",
    "def varToFact(var,fact,factorGraph):\n",
    "    \"\"\"\n",
    "    calculate the message passed from variable node to fact node\n",
    "    var--variable label\n",
    "    fact--fact label\n",
    "    factorGraph--graph construction\n",
    "    \"\"\"\n",
    "    if factorGraph[factorGraph[var]==1].shape[0]==1:\n",
    "        #when come to the leaf just return 1\n",
    "        return varAsLeaf()\n",
    "    else:\n",
    "        vToF=1\n",
    "        for factNode in factorGraph.loc[(factorGraph[var]==1)&(factorGraph[var].index!=fact)].index.tolist():\n",
    "            #call the function factToVar() to gain the message from fact to variable\n",
    "            vToF=factToVar(factNode,var,factorGraph,pDict).multiply(vToF,axis='index')\n",
    "        return vToF\n",
    "def factToVar(fact,var,factorGraph,pDict):\n",
    "    \"\"\"\n",
    "    calculate the message passed from fact node to variable node\n",
    "    fact--fact label\n",
    "    var--variable label\n",
    "    factorGraph--graph construction\n",
    "    pDict--distribution map with labels\n",
    "    \"\"\"\n",
    "    if factorGraph.loc[fact][(factorGraph.loc[fact]==1)].shape[0]==1:\n",
    "        #when come to the leaf just return the f(x)\n",
    "        return factAsLeaf(pDict[fact])\n",
    "    else:\n",
    "        unmargin_fToV=pDict[fact]\n",
    "        for varNode in factorGraph.loc[fact][(factorGraph.loc[fact]==1)&(factorGraph.loc[fact].index!=var)].index.tolist():\n",
    "            #call the function varToFact() to gain the message from variable to fact\n",
    "            msg=varToFact(varNode,fact,factorGraph)\n",
    "            if type(msg)==int and msg==1:\n",
    "                unmargin_fToV=unmargin_fToV.mul(msg)\n",
    "            else:\n",
    "                unmargin_fToV=unmargin_fToV.mul(msg,level=msg.index.name)\n",
    "        #marginalization\n",
    "        fToV=unmargin_fToV.groupby(level=var).sum()\n",
    "        return fToV"
   ]
  },
  {
   "cell_type": "markdown",
   "metadata": {},
   "source": [
    "### Part 3d: Estimating a marginal distribution\n",
    "\n",
    "Using the sum product algorithm that you have implemented, compute $p(E)$ for the graphical model above."
   ]
  },
  {
   "cell_type": "code",
   "execution_count": 9,
   "metadata": {
    "collapsed": false
   },
   "outputs": [
    {
     "name": "stdout",
     "output_type": "stream",
     "text": [
      "Probability corresponding variable or factor:\n",
      "P(E=True)=0.0499937\n",
      "P(E=False)=0.9500063\n"
     ]
    }
   ],
   "source": [
    "def sumProduct(varOrFact,ifvar,factorGraph):\n",
    "    \"\"\"\n",
    "    implement the sum product, here for convenience we chose variable node E as the root\n",
    "    varOrFact--variable or factor label\n",
    "    ifvar--if the varOrFact is variable or factor\n",
    "    factorGraph--graph construction\n",
    "    \"\"\"\n",
    "    if ifvar==True:\n",
    "        p=1\n",
    "        #if root is variable we get message from its children factors\n",
    "        for factNode in factorGraph.loc[(factorGraph[varOrFact]==1)].index.tolist():\n",
    "            p=factToVar(factNode,varOrFact,factorGraph,pDict).multiply(p,axis='index')\n",
    "    else:\n",
    "        p=pDict[varOrFact]\n",
    "        #if root is factor we get message from its children variables\n",
    "        for varNode in factorGraph.loc[varOrFact][(factorGraph.loc[varOrFact]==1)].index.tolist():\n",
    "            msg=varToFact(varNode,varOrFact,factorGraph)\n",
    "            if type(msg)==int and msg==1:\n",
    "                p=p.mul(msg)\n",
    "            else:\n",
    "                p=p.mul(msg,level=msg.index.name)\n",
    "    return p\n",
    "ifvar=True# set if the root is a variable or a factor\n",
    "factorGraph=constructGraph()\n",
    "p=sumProduct('E',ifvar,factorGraph)\n",
    "print ('Probability corresponding variable or factor:')\n",
    "print ('P(E=True)='+str(p.loc['E=T']))\n",
    "print ('P(E=False)='+str(p.loc['E=F']))"
   ]
  },
  {
   "cell_type": "markdown",
   "metadata": {},
   "source": [
    "## Part 4: (3 points) Interpreting results\n",
    "\n",
    "Given that you have a cough (i.e. $C=True$), should you go to the hospital? Justify your decision by comparing the probability of an emergency versus the probability of your cough being fast healing."
   ]
  },
  {
   "cell_type": "code",
   "execution_count": 10,
   "metadata": {
    "collapsed": false
   },
   "outputs": [
    {
     "name": "stdout",
     "output_type": "stream",
     "text": [
      "p(E|C=True)=0.103704\n",
      "p(E|C=False)=0.896296\n",
      "======================\n",
      "p(F|C=True)=0.8\n",
      "p(F|C=False)=0.2\n"
     ]
    }
   ],
   "source": [
    "def multiplyTable(fAB,fBCD,fC,fDE,fCF):\n",
    "    \"\"\"\n",
    "    construct distribution table for p(A,B,C,D,E,F)\n",
    "    \"\"\"\n",
    "    fABCD = pd.merge(fAB.reset_index(),fBCD.reset_index(),on='B')\n",
    "    fABCD['value'] = fABCD['0_x'] * fABCD['0_y']\n",
    "    fABCD.drop(['0_x','0_y'],inplace=True,axis=1)\n",
    "    fABCD=pd.merge(fABCD,fC.reset_index(),on='C')\n",
    "    fABCD['value'] = fABCD['value'] * fABCD[0]\n",
    "    fABCD.drop([0],inplace=True,axis=1)\n",
    "    fABCDE=pd.merge(fABCD,fDE.reset_index(),on='D')\n",
    "    fABCDE['value'] = fABCDE['value'] * fABCDE[0]\n",
    "    fABCDE.drop([0],inplace=True,axis=1)\n",
    "    fABCDEF=pd.merge(fABCDE,fCF.reset_index(),on='C')\n",
    "    fABCDEF['value'] = fABCDEF['value'] * fABCDEF[0]\n",
    "    fABCDEF.drop([0],inplace=True,axis=1)\n",
    "    return fABCDEF\n",
    "fABCDEF=multiplyTable(fAB,fBCD,fC,fDE,fCF)\n",
    "\"\"\"\n",
    "print the probability of p(E|C=True) and p(F|C=True)\n",
    "\"\"\"\n",
    "pE_C=fABCDEF[(fABCDEF['C']=='C=T')].groupby('E').sum()/fABCDEF[(fABCDEF['C']=='C=T')]['value'].sum()\n",
    "pF_C=fABCDEF[(fABCDEF['C']=='C=T')].groupby('F').sum()/fABCDEF[(fABCDEF['C']=='C=T')]['value'].sum()\n",
    "print ('p(E|C=True)='+str(pE_C['value'].loc['E=T']))\n",
    "print ('p(E|C=False)='+str(pE_C['value'].loc['E=F']))\n",
    "print ('======================')\n",
    "print ('p(F|C=True)='+str(pF_C['value'].loc['F=T']))\n",
    "print ('p(F|C=False)='+str(pF_C['value'].loc['F=F']))"
   ]
  },
  {
   "cell_type": "markdown",
   "metadata": {},
   "source": [
    "### Solution description\n",
    "For comparing the results, I just brute-forcely construct a distribution of p(A,B,C,D,E,F) and marginalize the probability. And as calculated if I have a cough and I will have **0.103704** probability of my cough being emergency and **0.8** probability of my cough being fast healing. So I think that fortunately that I don't need to go to hospital.\n",
    "\n",
    "(optional)\n",
    "Second way using message passing, and get the same answer."
   ]
  },
  {
   "cell_type": "code",
   "execution_count": 11,
   "metadata": {
    "collapsed": false
   },
   "outputs": [
    {
     "name": "stdout",
     "output_type": "stream",
     "text": [
      "E\n",
      "E=F    0.896296\n",
      "E=T    0.103704\n",
      "dtype: float64\n",
      "===============\n",
      "F\n",
      "F=F    0.2\n",
      "F=T    0.8\n",
      "dtype: float64\n"
     ]
    }
   ],
   "source": [
    "pDict['fBCD']=fBCD.loc(axis=0)[:,'C=T']\n",
    "pDict['fCF']=fCF.loc(axis=0)[:,'C=T']\n",
    "pDict['fC']=pd.Series([1],index=pd.Index(['C=T'],name='C'))\n",
    "pE=sumProduct('E',ifvar,factorGraph)\n",
    "print (pE)\n",
    "print ('===============')\n",
    "pF=sumProduct('F',ifvar,factorGraph)\n",
    "print (pF)"
   ]
  },
  {
   "cell_type": "code",
   "execution_count": null,
   "metadata": {
    "collapsed": false
   },
   "outputs": [],
   "source": []
  },
  {
   "cell_type": "code",
   "execution_count": null,
   "metadata": {
    "collapsed": true
   },
   "outputs": [],
   "source": []
  }
 ],
 "metadata": {
  "kernelspec": {
   "display_name": "Python 3",
   "language": "python",
   "name": "python3"
  },
  "language_info": {
   "codemirror_mode": {
    "name": "ipython",
    "version": 3
   },
   "file_extension": ".py",
   "mimetype": "text/x-python",
   "name": "python",
   "nbconvert_exporter": "python",
   "pygments_lexer": "ipython3",
   "version": "3.4.2"
  }
 },
 "nbformat": 4,
 "nbformat_minor": 0
}
